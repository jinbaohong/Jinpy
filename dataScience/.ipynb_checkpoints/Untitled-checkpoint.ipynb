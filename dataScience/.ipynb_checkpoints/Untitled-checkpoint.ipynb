{
 "cells": [
  {
   "cell_type": "code",
   "execution_count": 1,
   "metadata": {},
   "outputs": [],
   "source": [
    "from trainNtest import trainNtest\n",
    "import numpy as np\n",
    "import pandas as pd\n",
    "from sklearn.neighbors import KNeighborsClassifier\n",
    "from sklearn.svm import SVC\n",
    "from sklearn.metrics import confusion_matrix\n",
    "from sklearn.preprocessing import Imputer\n",
    "from sklearn.model_selection import LeaveOneOut\n",
    "from sklearn.model_selection import KFold\n",
    "from sklearn.ensemble import GradientBoostingClassifier\n",
    "from sklearn.ensemble import RandomForestClassifier\n",
    "\n",
    "# from sklearn.model_selection import train_test_split\n",
    "\n",
    "class dataNtarget(object):\n",
    "    '''\n",
    "    Split data into two parts: X and y\n",
    "     data : pandas.DataFrame\n",
    "    yName : string\n",
    "    '''\n",
    "    def __init__(self, data, yName):\n",
    "        self.data = data\n",
    "        self.y = data[yName]\n",
    "        self.X = data.loc[:,self.data.columns != yName]\n",
    "\n",
    "\n",
    "def rmCol(pandsDF, colnamesList):\n",
    "    '''\n",
    "    remove columns you don't want\n",
    "        pandasDF : pandas.DataFrame\n",
    "    colnamesList : list\n",
    "    return dataframe without columns you don't want.\n",
    "    '''\n",
    "    tmp = pandsDF.loc[:,list(map(lambda x: x not in colnamesList,\n",
    "                       pandsDF.columns))]\n",
    "    return tmp\n",
    "\n",
    "def getSplitingData(X, y, splitGenerator):\n",
    "    '''\n",
    "                 X : pandas.DataFrame : Data without Y\n",
    "                 y : pandas.Series    : Data of Y\n",
    "    splitGenerator : generator        : generator which generate spliting index\n",
    "    This function fetches only one set of splitting generator.\n",
    "    So you can get different set whenever you call this function.\n",
    "    '''\n",
    "    train_index, test_index = next(splitGenerator)\n",
    "    X_train, X_test = X.iloc[train_index], X.iloc[test_index]\n",
    "    y_train, y_test = y.iloc[train_index], y.iloc[test_index]\n",
    "    return (X_train, X_test, y_train, y_test)\n",
    "\n",
    "\n",
    "# train_X, test_X, train_y, test_y = train_test_split(\n",
    "#     titanic, titanic['Survived'], test_size=0.4, random_state=3)"
   ]
  },
  {
   "cell_type": "code",
   "execution_count": 2,
   "metadata": {},
   "outputs": [
    {
     "name": "stdout",
     "output_type": "stream",
     "text": [
      "10 round::\n",
      "testing accuracy : 0.788889\n",
      "training accuracy : 0.910112\n",
      "9 round::\n",
      "testing accuracy : 0.820225\n",
      "training accuracy : 0.902743\n",
      "8 round::\n",
      "testing accuracy : 0.797753\n",
      "training accuracy : 0.906484\n",
      "7 round::\n",
      "testing accuracy : 0.831461\n",
      "training accuracy : 0.896509\n",
      "6 round::\n",
      "testing accuracy : 0.853933\n",
      "training accuracy : 0.892768\n",
      "5 round::\n",
      "testing accuracy : 0.831461\n",
      "training accuracy : 0.906484\n",
      "4 round::\n",
      "testing accuracy : 0.808989\n",
      "training accuracy : 0.903990\n",
      "3 round::\n",
      "testing accuracy : 0.786517\n",
      "training accuracy : 0.906484\n",
      "2 round::\n",
      "testing accuracy : 0.898876\n",
      "training accuracy : 0.886534\n",
      "1 round::\n",
      "testing accuracy : 0.831461\n",
      "training accuracy : 0.895262\n"
     ]
    }
   ],
   "source": [
    "if __name__ == '__main__':\n",
    "    titanic = pd.read_csv('titanic/train.csv')\n",
    "    titanic = rmCol(titanic, ['PassengerId','Name','Ticket','Cabin'])\n",
    "    titanic = pd.get_dummies(titanic)\n",
    "    titanic = dataNtarget(titanic, 'Survived')\n",
    "\n",
    "    kf = KFold( n_splits=10 ).split( titanic.X )\n",
    "    n_splits = 10\n",
    "    \n",
    "    while n_splits > 0:\n",
    "        X_train, X_test, y_train, y_test = getSplitingData(titanic.X, titanic.y, kf)\n",
    "        imp = Imputer(missing_values='NaN', strategy='mean', axis=0)\n",
    "        imp = imp.fit(X_train)\n",
    "        # pd.DataFrame(imp.transform(train_X))\n",
    "        estimator = GradientBoostingClassifier()\n",
    "        estimator.fit(imp.transform(X_train), y_train)\n",
    "        testPredict = pd.Series( estimator.predict( imp.transform( X_test ) ),\n",
    "                           index = ( y_test.index ) )\n",
    "        trainPredict = pd.Series( estimator.predict( imp.transform( X_train ) ),\n",
    "                           index = ( y_train.index ) )\n",
    "\n",
    "        testAccuracy = sum( testPredict == y_test ) / len(y_test)\n",
    "        trainAccuracy = sum( trainPredict == y_train ) / len(y_train)\n",
    "        print( \"%d round::\\ntesting accuracy : %f\\ntraining accuracy : %f\" % (n_splits, testAccuracy, trainAccuracy) )\n",
    "#         print(confusion_matrix(y_test, testPredict))\n",
    "        n_splits = n_splits - 1\n",
    "\n"
   ]
  },
  {
   "cell_type": "code",
   "execution_count": 3,
   "metadata": {},
   "outputs": [
    {
     "ename": "SyntaxError",
     "evalue": "invalid syntax (<ipython-input-3-1e0ffb918cb8>, line 2)",
     "output_type": "error",
     "traceback": [
      "\u001b[0;36m  File \u001b[0;32m\"<ipython-input-3-1e0ffb918cb8>\"\u001b[0;36m, line \u001b[0;32m2\u001b[0m\n\u001b[0;31m    x++\u001b[0m\n\u001b[0m       ^\u001b[0m\n\u001b[0;31mSyntaxError\u001b[0m\u001b[0;31m:\u001b[0m invalid syntax\n"
     ]
    }
   ],
   "source": [
    "x = 2\n",
    "x++\n"
   ]
  },
  {
   "cell_type": "code",
   "execution_count": null,
   "metadata": {
    "collapsed": true
   },
   "outputs": [],
   "source": []
  }
 ],
 "metadata": {
  "kernelspec": {
   "display_name": "Python 3",
   "language": "python",
   "name": "python3"
  },
  "language_info": {
   "codemirror_mode": {
    "name": "ipython",
    "version": 3
   },
   "file_extension": ".py",
   "mimetype": "text/x-python",
   "name": "python",
   "nbconvert_exporter": "python",
   "pygments_lexer": "ipython3",
   "version": "3.5.2"
  }
 },
 "nbformat": 4,
 "nbformat_minor": 2
}
