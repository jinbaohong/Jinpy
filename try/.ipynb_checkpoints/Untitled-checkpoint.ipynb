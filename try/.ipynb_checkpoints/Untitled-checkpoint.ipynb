{
 "cells": [
  {
   "cell_type": "code",
   "execution_count": 9,
   "metadata": {},
   "outputs": [
    {
     "name": "stdout",
     "output_type": "stream",
     "text": [
      "unShape$Growth_hs138_15_16 = getGrowthRate(unShape, 'total_2015', 'hs138_2016', 1)\n"
     ]
    }
   ],
   "source": [
    "def getGrowthCommand(total):\n",
    "    return \"unShape$Growth_\" + total + \"_15_16 = getGrowthRate(unShape, 'total_2015', '\" +  total + \"_2016', 1)\"\n",
    "if __name__ == '__main__':\n",
    "    print( getGrowthCommand('hs138') )"
   ]
  },
  {
   "cell_type": "code",
   "execution_count": null,
   "metadata": {
    "collapsed": true
   },
   "outputs": [],
   "source": []
  }
 ],
 "metadata": {
  "kernelspec": {
   "display_name": "Python 3",
   "language": "python",
   "name": "python3"
  },
  "language_info": {
   "codemirror_mode": {
    "name": "ipython",
    "version": 3
   },
   "file_extension": ".py",
   "mimetype": "text/x-python",
   "name": "python",
   "nbconvert_exporter": "python",
   "pygments_lexer": "ipython3",
   "version": "3.5.2"
  }
 },
 "nbformat": 4,
 "nbformat_minor": 2
}
