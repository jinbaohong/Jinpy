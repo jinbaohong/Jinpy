{
 "cells": [
  {
   "cell_type": "code",
   "execution_count": 1,
   "metadata": {
    "collapsed": true
   },
   "outputs": [],
   "source": [
    "import socket\n",
    "import threading\n",
    "import os"
   ]
  },
  {
   "cell_type": "code",
   "execution_count": null,
   "metadata": {
    "collapsed": true
   },
   "outputs": [],
   "source": [
    "s = socket.socket(socket.AF_INET, socket.SOCK_STREAM)\n",
    "s.connect(('www.google.com', 80))\n",
    "s.send(b'GET / HTTP/1.1\\r\\nHost: www.google.com\\r\\nConnection: close\\r\\n\\r\\n')\n",
    "buffer = []\n",
    "while True:\n",
    "    d = s.recv(1024)\n",
    "    if d:\n",
    "        buffer.append(d)\n",
    "    else:\n",
    "        break\n",
    "data = b''.join(buffer)\n",
    "s.close()\n",
    "header, html = data.split(b'\\r\\n\\r\\n', 1)\n",
    "print(header.decode('utf-8'))\n",
    "with open('sina.html', 'wb') as f:\n",
    "    f.write(html)"
   ]
  },
  {
   "cell_type": "code",
   "execution_count": null,
   "metadata": {
    "collapsed": true
   },
   "outputs": [],
   "source": [
    "def tcplink(sock, addr):\n",
    "    print('Accept new connection from %s:%s...' % addr)\n",
    "    sock.send(b'Welcome!')\n",
    "    while True:\n",
    "        data = sock.recv(1024)\n",
    "        time.sleep(1)\n",
    "        if not data or data.decode('utf-8') == 'exit':\n",
    "            break\n",
    "        sock.send(('Hello, %s!' % data.decode('utf-8')).encode('utf-8'))\n",
    "    sock.close()\n",
    "    print('Connection from %s:%s closed.' % addr)\n",
    "\n",
    "s = socket.socket(socket.AF_INET, socket.SOCK_STREAM)\n",
    "s.bind(('127.0.0.1', 9999))\n",
    "s.listen(5)\n",
    "print('Waiting for connection...')\n",
    "while True:\n",
    "    # receive a new connect:\n",
    "    sock, addr = s.accept()\n",
    "    # create new thread to cope with tcp connection:\n",
    "    t = threading.Thread(target=tcplink, args=(sock, addr))\n",
    "    t.start()\n"
   ]
  },
  {
   "cell_type": "code",
   "execution_count": null,
   "metadata": {
    "collapsed": true
   },
   "outputs": [],
   "source": [
    "s = socket.socket(socket.AF_INET, socket.SOCK_STREAM)\n",
    "# create connection:\n",
    "s.connect(('127.0.0.1', 9999))\n",
    "# receive hello information:\n",
    "print(s.recv(1024).decode('utf-8'))\n",
    "for data in [b'Michael', b'Tracy', b'Sarah']:\n",
    "    # send data:\n",
    "    s.send(data)\n",
    "    print(s.recv(1024).decode('utf-8'))\n",
    "s.send(b'exit')\n",
    "s.close()"
   ]
  },
  {
   "cell_type": "code",
   "execution_count": 6,
   "metadata": {},
   "outputs": [
    {
     "data": {
      "text/plain": [
       "5563"
      ]
     },
     "execution_count": 6,
     "metadata": {},
     "output_type": "execute_result"
    }
   ],
   "source": [
    "os.getpid()\n",
    "os.fork()"
   ]
  },
  {
   "cell_type": "code",
   "execution_count": 2,
   "metadata": {
    "collapsed": true
   },
   "outputs": [],
   "source": [
    "import findspark\n",
    "findspark.init()"
   ]
  },
  {
   "cell_type": "code",
   "execution_count": 9,
   "metadata": {
    "collapsed": true
   },
   "outputs": [],
   "source": [
    "from pyspark import SparkConf, SparkContext\n",
    "sc = SparkContext()\n",
    "\n",
    "intRDD = sc.parallelize([3,1,2,5,5])\n",
    "stringRDD = sc.parallelize(['Apple','Orange','Grape','Banana','Apple'])\n",
    "\n",
    "print (intRDD.collect())\n",
    "print (stringRDD.collect())\n",
    "\n",
    "print(intRDD.map(lambda x:x+1).collect())\n",
    "\n",
    "sRDD = intRDD.randomSplit([0.3,0.7])\n",
    "print(len(sRDD))\n",
    "print(sRDD[0].collect())\n",
    "print(sRDD[1].collect())\n",
    "\n",
    "kvRDD1 = sc.parallelize([(3,4),(3,6),(5,6),(1,2)])\n",
    "\n",
    "print(kvRDD1.keys().collect())\n",
    "print (kvRDD1.values().collect())\n",
    "print (kvRDD1.filter(lambda x:x[1] < 5).collect())\n",
    "print (kvRDD1.mapValues(lambda x:x**2).collect())\n",
    "print (kvRDD1.sortByKey(False).collect())\n",
    "print(kvRDD1.reduceByKey(lambda x,y:x*y).collect())\n",
    "\n",
    "kvRDD1 = sc.parallelize([(3,4),(3,6),(5,6),(1,2)])\n",
    "kvRDD2 = sc.parallelize([(3,8),(2,7)])\n",
    "print (kvRDD1.join(kvRDD2).collect())\n",
    "print (kvRDD1.rightOuterJoin(kvRDD2).collect())\n",
    "print (kvRDD1.countByKey())\n",
    "print(kvRDD1.lookup(3))\n",
    "\n",
    "kvRDD1.persist()\n",
    "\n",
    "from pyspark.storagelevel import StorageLevel\n",
    "kvRDD1.unpersist()"
   ]
  },
  {
   "cell_type": "code",
   "execution_count": 7,
   "metadata": {
    "collapsed": true
   },
   "outputs": [],
   "source": [
    "import requests\n",
    "from multiprocessing.dummy import Pool as ThreadPool\n",
    "import time"
   ]
  },
  {
   "cell_type": "code",
   "execution_count": 8,
   "metadata": {},
   "outputs": [
    {
     "name": "stdout",
     "output_type": "stream",
     "text": [
      "--- 1.3073816299438477 seconds ---\n"
     ]
    }
   ],
   "source": [
    "start_time = time.time()\n",
    "urls = [\n",
    "  'http://www.python.org', \n",
    "  'http://www.python.org/about/',\n",
    "  'http://www.onlamp.com/pub/a/python/2003/04/17/metaclasses.html',\n",
    "  'http://www.python.org/doc/',\n",
    "  'http://www.python.org/download/',\n",
    "  'http://www.python.org/getit/',\n",
    "  'http://www.python.org/community/',\n",
    "  'https://wiki.python.org/moin/',\n",
    "]\n",
    "pool = ThreadPool(4)\n",
    "results = pool.map(requests.get, urls)\n",
    "pool.close()\n",
    "pool.join()\n",
    "print(\"--- %s seconds ---\" % (time.time() - start_time))\n"
   ]
  },
  {
   "cell_type": "code",
   "execution_count": 9,
   "metadata": {},
   "outputs": [
    {
     "name": "stdout",
     "output_type": "stream",
     "text": [
      "--- 3.3689873218536377 seconds ---\n"
     ]
    }
   ],
   "source": [
    "start_time = time.time()\n",
    "results = []\n",
    "for url in urls:\n",
    "    results.append(requests.get(url))\n",
    "print(\"--- %s seconds ---\" % (time.time() - start_time))\n"
   ]
  },
  {
   "cell_type": "code",
   "execution_count": 11,
   "metadata": {},
   "outputs": [
    {
     "data": {
      "text/plain": [
       "<zip at 0x7fa66c4d8848>"
      ]
     },
     "execution_count": 11,
     "metadata": {},
     "output_type": "execute_result"
    }
   ],
   "source": [
    "zip([1,2,3],[4,5,6])"
   ]
  },
  {
   "cell_type": "code",
   "execution_count": 65,
   "metadata": {
    "collapsed": true
   },
   "outputs": [],
   "source": [
    "import xml.etree.ElementTree as ET\n",
    "import csv\n",
    "\n",
    "tree = ET.ElementTree(file='ginnywise.xml')\n",
    "\n",
    "root = tree.getroot()\n",
    "root.tag, root.attrib\n",
    "\n",
    "outputFile = 'ginnywise.csv'\n",
    "with open(outputFile, \"w\") as fp:\n",
    "    wr = csv.writer(fp, dialect='excel', quotechar = '\"')\n",
    "    wr.writerow(['locationName','stationId','obsTime','測站氣壓','溫度','相對濕度','風速','風向','降水量'])\n",
    "for loc in range(len(root)): # 每個location\n",
    "    timeNum = len(root[loc][2]) # 每個location的time數量\n",
    "    for time in range(1,timeNum):\n",
    "        print(loc, time)\n",
    "        tmpList = [root[loc][0].text,\n",
    "                 root[loc][1].text,\n",
    "                 root[loc][2][time].find('obsTime').text,\n",
    "                 root[loc][2][time][1][1][0].text,\n",
    "                 root[loc][2][time][2][1][0].text,\n",
    "                 root[loc][2][time][3][1][0].text,\n",
    "                 root[loc][2][time][4][1][0].text,\n",
    "                 root[loc][2][time][5][1][0].text,\n",
    "                 root[loc][2][time][6][1][0].text]\n",
    "        with open(outputFile, \"a\") as fp:\n",
    "            wr = csv.writer(fp, dialect='excel', quotechar = '\"')\n",
    "            wr.writerow(tmpList)"
   ]
  },
  {
   "cell_type": "code",
   "execution_count": null,
   "metadata": {
    "collapsed": true
   },
   "outputs": [],
   "source": []
  }
 ],
 "metadata": {
  "kernelspec": {
   "display_name": "Python 3",
   "language": "python",
   "name": "python3"
  },
  "language_info": {
   "codemirror_mode": {
    "name": "ipython",
    "version": 3
   },
   "file_extension": ".py",
   "mimetype": "text/x-python",
   "name": "python",
   "nbconvert_exporter": "python",
   "pygments_lexer": "ipython3",
   "version": "3.5.2"
  }
 },
 "nbformat": 4,
 "nbformat_minor": 2
}
