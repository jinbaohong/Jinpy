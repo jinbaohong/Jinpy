{
 "cells": [
  {
   "cell_type": "code",
   "execution_count": 1,
   "metadata": {
    "collapsed": true
   },
   "outputs": [],
   "source": [
    "import requests\n",
    "from bs4 import BeautifulSoup\n",
    "import pandas as pd\n",
    "import time\n",
    "import sys\n",
    "import csv\n",
    "from random import randint\n",
    "import re\n",
    "\n",
    "headers = {'User-Agent': 'Mozilla/5.0 (Macintosh; Intel Mac OS X 10_10_1) AppleWebKit/537.36 (KHTML, like Gecko) Chrome/39.0.2171.95 Safari/537.36'}\n"
   ]
  },
  {
   "cell_type": "code",
   "execution_count": 26,
   "metadata": {
    "scrolled": false
   },
   "outputs": [
    {
     "data": {
      "text/html": [
       "<div>\n",
       "<style>\n",
       "    .dataframe thead tr:only-child th {\n",
       "        text-align: right;\n",
       "    }\n",
       "\n",
       "    .dataframe thead th {\n",
       "        text-align: left;\n",
       "    }\n",
       "\n",
       "    .dataframe tbody tr th {\n",
       "        vertical-align: top;\n",
       "    }\n",
       "</style>\n",
       "<table border=\"1\" class=\"dataframe\">\n",
       "  <thead>\n",
       "    <tr style=\"text-align: right;\">\n",
       "      <th></th>\n",
       "      <th>公司</th>\n",
       "      <th>公司電話</th>\n",
       "      <th>員工人數</th>\n",
       "      <th>統一編號</th>\n",
       "      <th>網站位址</th>\n",
       "      <th>聯絡地址</th>\n",
       "      <th>行業別</th>\n",
       "      <th>資本額</th>\n",
       "    </tr>\n",
       "  </thead>\n",
       "  <tbody>\n",
       "    <tr>\n",
       "      <th>0</th>\n",
       "      <td>\\n金富發烘焙坊(金順發蛋糕)( 金順發蛋糕 )\\n\\n回覆模範生\\n\\n</td>\n",
       "      <td></td>\n",
       "      <td>暫不提供員工人數</td>\n",
       "      <td>KeyError</td>\n",
       "      <td>KeyError</td>\n",
       "      <td>新北市淡水區清水街20號地圖</td>\n",
       "      <td>麵包店／點心烘焙店</td>\n",
       "      <td>KeyError</td>\n",
       "    </tr>\n",
       "  </tbody>\n",
       "</table>\n",
       "</div>"
      ],
      "text/plain": [
       "                                      公司 公司電話      員工人數      統一編號      網站位址  \\\n",
       "0  \\n金富發烘焙坊(金順發蛋糕)( 金順發蛋糕 )\\n\\n回覆模範生\\n\\n       暫不提供員工人數  KeyError  KeyError   \n",
       "\n",
       "             聯絡地址        行業別       資本額  \n",
       "0  新北市淡水區清水街20號地圖  麵包店／點心烘焙店  KeyError  "
      ]
     },
     "execution_count": 26,
     "metadata": {},
     "output_type": "execute_result"
    }
   ],
   "source": [
    "def getValueByKey(soup, key):\n",
    "    '''\n",
    "    soup : soup of https://www.1111.com.tw/corp/8525505/\n",
    "    key : string (regex is available)\n",
    "    '''\n",
    "    capitalKey = soup.find('div', text = re.compile(key), attrs = {'class', 'listTitle'})\n",
    "    if capitalKey != None:\n",
    "        capitalValue = capitalKey.find_next_sibling(\"div\")\n",
    "        if capitalValue != None:\n",
    "            return capitalValue.text\n",
    "        return 'ValueError'\n",
    "    return 'KeyError'\n",
    "\n",
    "def getCompanyName(soup):\n",
    "    title = soup.find('div', {'class': 'mutitle'})\n",
    "    try:\n",
    "        title = title.text\n",
    "    except:\n",
    "        title = 'NameError'\n",
    "    return title\n",
    "\n",
    "def setDict(soup, dataDict):\n",
    "    dataDict['公司'] = getCompanyName(soup)\n",
    "    dataDict['聯絡地址'] = getValueByKey(soup, '聯絡地址')\n",
    "    dataDict['行業別'] = getValueByKey(soup, '行業別')\n",
    "    dataDict['統一編號'] = getValueByKey(soup, '統一編號')\n",
    "    dataDict['資本額'] = getValueByKey(soup, '資本額')\n",
    "    dataDict['員工人數'] = getValueByKey(soup, '員工人數')\n",
    "    dataDict['公司電話'] = getValueByKey(soup, '公司電話')\n",
    "    dataDict['網站位址'] = getValueByKey(soup, '網站位址')\n",
    "    return dataDict\n",
    "\n",
    "url = 'https://www.1111.com.tw/corp/8525505/'\n",
    "r = requests.get(url, headers=headers)\n",
    "soup = BeautifulSoup(r.text, 'html.parser')\n",
    "dataDict = dict()\n",
    "dataDict = setDict(soup, dataDict)\n",
    "pd.DataFrame([dataDict])"
   ]
  },
  {
   "cell_type": "code",
   "execution_count": 2,
   "metadata": {},
   "outputs": [
    {
     "data": {
      "text/plain": [
       "'https//www.1111.com.tw/corp/69454149/'"
      ]
     },
     "execution_count": 2,
     "metadata": {},
     "output_type": "execute_result"
    }
   ],
   "source": [
    "urls = pd.read_csv('result_1111/urls_1111.csv')\n",
    "url = 'https' + urls.loc[0][0]\n",
    "url"
   ]
  },
  {
   "cell_type": "code",
   "execution_count": 24,
   "metadata": {},
   "outputs": [
    {
     "data": {
      "text/plain": [
       "'\\n鑀鍀國際有限公司( Alouette )\\n\\n\\n\\n'"
      ]
     },
     "execution_count": 24,
     "metadata": {},
     "output_type": "execute_result"
    }
   ],
   "source": [
    "urls = pd.read_csv('result_1111/urls_1111.csv')\n",
    "outputFile = 'result_1111/company1111.csv'\n",
    "failFile = 'result_1111/failFile.csv'\n",
    "\n",
    "for i in range(len(urls)):\n",
    "    url = 'https' + urls.loc[i][0]\n",
    "    print(url)\n",
    "    try:\n",
    "        time.sleep(randint(2,6))\n",
    "        r = requests.get(url, headers=headers)\n",
    "    except:\n",
    "        print('Requesting meets some problems...')\n",
    "        continue\n",
    "    soup = BeautifulSoup(r.text, 'html.parser')\n",
    "    try:\n",
    "        dataDict = dict()\n",
    "        dataDict = setDict(soup, dataDict)\n",
    "        temp = pd.DataFrame([dataDict])\n",
    "        with open('result_1111/myf.csv', 'a') as f:\n",
    "            temp.to_csv(f, index=False, header=False)\n",
    "        print('Successful!')\n",
    "    except:\n",
    "        print('There might be some exceptions in this url...')\n",
    "        with open(failFile, \"a\") as fp:\n",
    "            wr = csv.writer(fp, dialect='excel', quotechar = '\"')\n",
    "            wr.writerow([url])\n",
    "\n"
   ]
  },
  {
   "cell_type": "code",
   "execution_count": null,
   "metadata": {
    "collapsed": true,
    "scrolled": true
   },
   "outputs": [],
   "source": [
    "urls = pd.read_csv('result_104/urls_104.csv')\n",
    "outputFile = 'result_104/company104.csv'\n",
    "failFile = 'result_104/failFile.csv'\n",
    "\n",
    "\n",
    "for i in range(len(urls)):\n",
    "    url = urls.loc[i][0]\n",
    "    print(url)\n",
    "    try:\n",
    "        time.sleep(randint(2,6))\n",
    "        r = requests.get(url, headers=headers)\n",
    "    except:\n",
    "        print('Requesting meets some problems...')\n",
    "        continue\n",
    "    soup = BeautifulSoup(r.text, 'html.parser')\n",
    "    articles = soup.findAll('article')\n",
    "    for article in articles:\n",
    "        try:\n",
    "            tmpList = [article.find('a').text,\n",
    "                       article.findAll('p')[0].text,\n",
    "                       article.findAll('p')[1].text,\n",
    "                       article.findAll('p')[2].text,\n",
    "                       url]\n",
    "            with open(outputFile, \"a\") as fp:\n",
    "                wr = csv.writer(fp, dialect='excel', quotechar = '\"')\n",
    "                wr.writerow(tmpList)\n",
    "        except:\n",
    "            print('There might be some exceptions in this url...')\n",
    "            with open(failFile, \"a\") as fp:\n",
    "                wr = csv.writer(fp, dialect='excel', quotechar = '\"')\n",
    "                wr.writerow([url])\n",
    "    print('Successful!')\n",
    "\n"
   ]
  }
 ],
 "metadata": {
  "kernelspec": {
   "display_name": "Python 3",
   "language": "python",
   "name": "python3"
  },
  "language_info": {
   "codemirror_mode": {
    "name": "ipython",
    "version": 3
   },
   "file_extension": ".py",
   "mimetype": "text/x-python",
   "name": "python",
   "nbconvert_exporter": "python",
   "pygments_lexer": "ipython3",
   "version": "3.5.2"
  }
 },
 "nbformat": 4,
 "nbformat_minor": 2
}
