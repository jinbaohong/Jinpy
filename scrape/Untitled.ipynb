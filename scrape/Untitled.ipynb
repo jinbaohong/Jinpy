{
 "cells": [
  {
   "cell_type": "code",
   "execution_count": 51,
   "metadata": {
    "collapsed": true
   },
   "outputs": [],
   "source": [
    "import requests\n",
    "from bs4 import BeautifulSoup\n",
    "import pandas as pd\n",
    "import time\n",
    "\n",
    "\n",
    "headers = {'User-Agent': 'Mozilla/5.0 (Macintosh; Intel Mac OS X 10_10_1) AppleWebKit/537.36 (KHTML, like Gecko) Chrome/39.0.2171.95 Safari/537.36'}\n"
   ]
  },
  {
   "cell_type": "code",
   "execution_count": 41,
   "metadata": {},
   "outputs": [],
   "source": [
    "for page in range(1, 3114):\n",
    "    url = 'http://www.sports.org.tw/c/product/p_viwe.asp?p_id=' + page\n",
    "    r = requests.get(url, headers=headers)\n",
    "    r.encoding = 'big5'\n",
    "    soup = BeautifulSoup(r.text, 'html.parser')\n",
    "    content = soup.find('body').findAll('table')[3].findAll('tr')[1].text.strip()\n",
    "    with open(\"soliTmp.csv\", \"a\") as text_file:\n",
    "        text_file.write( content + '\\n' )\n",
    "    time.sleep(2)\n"
   ]
  }
 ],
 "metadata": {
  "kernelspec": {
   "display_name": "Python 3",
   "language": "python",
   "name": "python3"
  },
  "language_info": {
   "codemirror_mode": {
    "name": "ipython",
    "version": 3
   },
   "file_extension": ".py",
   "mimetype": "text/x-python",
   "name": "python",
   "nbconvert_exporter": "python",
   "pygments_lexer": "ipython3",
   "version": "3.5.2"
  }
 },
 "nbformat": 4,
 "nbformat_minor": 2
}
