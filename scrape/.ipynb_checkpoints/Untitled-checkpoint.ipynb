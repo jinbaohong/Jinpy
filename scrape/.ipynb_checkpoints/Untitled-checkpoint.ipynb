{
 "cells": [
  {
   "cell_type": "code",
   "execution_count": 1,
   "metadata": {
    "collapsed": true
   },
   "outputs": [],
   "source": [
    "import requests"
   ]
  },
  {
   "cell_type": "code",
   "execution_count": 11,
   "metadata": {
    "collapsed": true
   },
   "outputs": [],
   "source": [
    "payload = {\n",
    "    'empy_ty': '2',\n",
    "    'query_mode': '1',\n",
    "    'mode1_empy': 'K009',\n",
    "    'empy_name': '%ACx%B0%B6%B5%7B',\n",
    "    'start_date': '20171001',\n",
    "    'end_date': '20171031'\n",
    "}\n",
    "\n",
    "cookie = {'_ga': 'GA1.3.1553170474.1481070686'}"
   ]
  },
  {
   "cell_type": "code",
   "execution_count": 12,
   "metadata": {},
   "outputs": [],
   "source": [
    "r = requests.get('http://personnel.taitra.org.tw/portal/login.jsp',\n",
    "#                   data = payload,\n",
    "                  cookies = cookie)\n",
    "\n",
    "# with requests.Session() as s:\n",
    "#     p = s.post('http://personnel.taitra.org.tw/portal/login.jsp', data=payload)\n",
    "#     # print the html returned or something more intelligent to see if it's a successful login page.\n",
    "#     print(p.text)\n",
    "\n",
    "#     # An authorised request.\n",
    "#     r = s.get('A protected web page url')\n",
    "#     print r.text"
   ]
  },
  {
   "cell_type": "code",
   "execution_count": 13,
   "metadata": {},
   "outputs": [
    {
     "data": {
      "text/plain": [
       "'\\r\\n\\r\\n\\r\\n\\r\\n\\r\\n\\r\\n\\r\\n\\r\\n\\r\\n\\r\\n\\r\\n\\r\\n<script language=\"JavaScript\" src=\"../script/common/jquery-1.10.2.js\"></script>\\r\\n<script language=\"JavaScript\" src=\"../script/common/jquery.blockUI.js\"></script>\\r\\n<script language=\"JavaScript\" src=\"../script/common/browser-check.js\"></script>\\r\\n\\r\\n\\t\\r\\n\\r\\n<script language=\"JavaScript\" src=\"../script/common/message.js\"></script>\\r\\n\\r\\n\\r\\n\\r\\n\\r\\n\\r\\n\\r\\n\\r\\n \\r\\n\\r\\n<script language=javascript>\\r\\n\\talert(\\'系統無此人員資料！\\');\\r\\n\\ttop.location.replace(\\'http://personnel.taitra.org.tw/login.html\\');\\r\\n</script>\\r\\n      \\r\\n        \\r\\n\\r\\n  \\r\\n'"
      ]
     },
     "execution_count": 13,
     "metadata": {},
     "output_type": "execute_result"
    }
   ],
   "source": [
    "r.text"
   ]
  },
  {
   "cell_type": "code",
   "execution_count": null,
   "metadata": {
    "collapsed": true
   },
   "outputs": [],
   "source": []
  }
 ],
 "metadata": {
  "kernelspec": {
   "display_name": "Python 3",
   "language": "python",
   "name": "python3"
  },
  "language_info": {
   "codemirror_mode": {
    "name": "ipython",
    "version": 3
   },
   "file_extension": ".py",
   "mimetype": "text/x-python",
   "name": "python",
   "nbconvert_exporter": "python",
   "pygments_lexer": "ipython3",
   "version": "3.5.2"
  }
 },
 "nbformat": 4,
 "nbformat_minor": 2
}
