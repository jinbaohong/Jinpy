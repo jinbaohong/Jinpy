{
 "cells": [
  {
   "cell_type": "code",
   "execution_count": 24,
   "metadata": {
    "collapsed": true
   },
   "outputs": [],
   "source": [
    "import requests\n",
    "from bs4 import BeautifulSoup\n",
    "import pandas as pd\n",
    "\n",
    "url = 'https://www.numbeo.com/pollution/rankings_by_country.jsp'\n",
    "\n",
    "headers = {'User-Agent': 'Mozilla/5.0 (Macintosh; Intel Mac OS X 10_10_1) AppleWebKit/537.36 (KHTML, like Gecko) Chrome/39.0.2171.95 Safari/537.36'}\n",
    "\n",
    "r = requests.get(url, headers=headers)\n",
    "\n",
    "\n",
    "soup = BeautifulSoup(r.text, 'html.parser')\n",
    "\n",
    "rows = soup.tbody.findAll('tr')\n",
    "with open(\"tmp.csv\", \"a\") as text_file:\n",
    "    text_file.write( 'Country,PollutionIndex,ExpPollutionIndex' + '\\n' )\n",
    "for row in rows:\n",
    "    parts = row.findAll('td')\n",
    "    tmp = []\n",
    "    for i in range(1,4):\n",
    "        tmp.append(parts[i].text)\n",
    "    tmp = ','.join( list( map(str, tmp) ) )\n",
    "    with open(\"tmp.csv\", \"a\") as text_file:\n",
    "        text_file.write( tmp + '\\n' )"
   ]
  },
  {
   "cell_type": "code",
   "execution_count": null,
   "metadata": {
    "collapsed": true
   },
   "outputs": [],
   "source": []
  }
 ],
 "metadata": {
  "kernelspec": {
   "display_name": "Python 3",
   "language": "python",
   "name": "python3"
  },
  "language_info": {
   "codemirror_mode": {
    "name": "ipython",
    "version": 3
   },
   "file_extension": ".py",
   "mimetype": "text/x-python",
   "name": "python",
   "nbconvert_exporter": "python",
   "pygments_lexer": "ipython3",
   "version": "3.5.2"
  }
 },
 "nbformat": 4,
 "nbformat_minor": 2
}
