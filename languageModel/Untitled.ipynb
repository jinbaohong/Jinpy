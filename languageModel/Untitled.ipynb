{
 "cells": [
  {
   "cell_type": "code",
   "execution_count": 1,
   "metadata": {
    "collapsed": true
   },
   "outputs": [],
   "source": [
    "from sklearn.feature_extraction.text import CountVectorizer\n",
    "import numpy as np\n",
    "import pandas as pd\n",
    "import csv\n",
    "import math\n",
    "import jieba\n",
    "import re"
   ]
  },
  {
   "cell_type": "code",
   "execution_count": null,
   "metadata": {
    "collapsed": true,
    "scrolled": true
   },
   "outputs": [],
   "source": [
    "text1 = \"It's good, Jinbao says I would like to come again.\"\n",
    "text2 = \"It's good, Meer says I would like to come again it good.\"\n",
    "text3 = \"It might be come an excellent one. But I won't come again.\"\n",
    "text4 = \"It's good, Ginny says I would like to come again.\"\n",
    "text5 = \"It's good, Penny says I would like to come again.\"\n",
    "text6 = \"It's good, BadB says I would like to come again.\"\n",
    "corpus = tuple([text1, text2, text3, text4, text5, text6])\n",
    "\n",
    "\n",
    "counter = CountVectorizer(ngram_range=(1,2))\n",
    "langMod = counter.fit_transform(corpus)\n",
    "\n",
    "# langMod.toarray()\n",
    "print(counter.get_feature_names())\n",
    "query = \"It's good\"#, Jinbao says I would like to come again.\"\n",
    "print('> counter.transform([query]).toarray()')\n",
    "print(counter.transform([query]).toarray())\n",
    "print('> langMod.toarray()')\n",
    "print(langMod.toarray())\n",
    "print('> Test P( again | come )')\n",
    "loc0 = counter.vocabulary_.get('come')\n",
    "loc1 = counter.vocabulary_.get('come again')\n",
    "\n",
    "print(sum(langMod.toarray().transpose()[loc1]) / sum(langMod.toarray().transpose()[loc0]))"
   ]
  },
  {
   "cell_type": "code",
   "execution_count": 11,
   "metadata": {
    "scrolled": true
   },
   "outputs": [
    {
     "ename": "NameError",
     "evalue": "name 'text1' is not defined",
     "output_type": "error",
     "traceback": [
      "\u001b[0;31m---------------------------------------------------------------------------\u001b[0m",
      "\u001b[0;31mNameError\u001b[0m                                 Traceback (most recent call last)",
      "\u001b[0;32m<ipython-input-11-4872b9c28d65>\u001b[0m in \u001b[0;36m<module>\u001b[0;34m()\u001b[0m\n\u001b[1;32m     29\u001b[0m     \u001b[0;31m#     print( sum([math.log(condProb(x, langModTrans)) for x in bigrams]) )\u001b[0m\u001b[0;34m\u001b[0m\u001b[0;34m\u001b[0m\u001b[0m\n\u001b[1;32m     30\u001b[0m \u001b[0;34m\u001b[0m\u001b[0m\n\u001b[0;32m---> 31\u001b[0;31m \u001b[0msequenceProb\u001b[0m\u001b[0;34m(\u001b[0m\u001b[0mtext1\u001b[0m\u001b[0;34m)\u001b[0m\u001b[0;34m\u001b[0m\u001b[0m\n\u001b[0m\u001b[1;32m     32\u001b[0m \u001b[0msequenceProb\u001b[0m\u001b[0;34m(\u001b[0m\u001b[0mtext2\u001b[0m\u001b[0;34m)\u001b[0m\u001b[0;34m\u001b[0m\u001b[0m\n\u001b[1;32m     33\u001b[0m \u001b[0msequenceProb\u001b[0m\u001b[0;34m(\u001b[0m\u001b[0mtext3\u001b[0m\u001b[0;34m)\u001b[0m\u001b[0;34m\u001b[0m\u001b[0m\n",
      "\u001b[0;31mNameError\u001b[0m: name 'text1' is not defined"
     ]
    }
   ],
   "source": [
    "# counter = CountVectorizer(ngram_range=(1,2))\n",
    "# langMod = counter.fit_transform(corpus)\n",
    "# langModTrans = langMod.toarray().transpose()\n",
    "\n",
    "def condProb(bigram, langModTrans):\n",
    "    cond = bigram.split(' ')[0]\n",
    "    loc0 = counter.vocabulary_.get(cond)\n",
    "    loc1 = counter.vocabulary_.get(bigram)\n",
    "    prob = sum(langModTrans[loc1]) / sum(langModTrans[loc0])\n",
    "    return prob\n",
    "# condProb('come again', langModTrans)\n",
    "\n",
    "def parseSeq(query):\n",
    "    counterTemp = CountVectorizer(ngram_range=(2,2))\n",
    "    langModTemp = counterTemp.fit_transform([query])\n",
    "    bigrams = counterTemp.get_feature_names()\n",
    "    return bigrams\n",
    "\n",
    "# text1 = \"It's good, Jinbao says I would like to come again.\"\n",
    "# parseSeq(text2)\n",
    "\n",
    "def sequenceProb(query):\n",
    "    bigrams = parseSeq(query)\n",
    "#     for bigram in bigrams:\n",
    "#         print( -math.log(condProb(bigram, langModTrans)))\n",
    "    logProb = sum(map(lambda x: math.log(condProb(x, langModTrans)), bigrams))\n",
    "#     logProb += parseSeq(query.split(' ')[0] + ' ' + query.split(' ')[1])[0].split(' ')[0]\n",
    "    print(math.exp(logProb))\n",
    "    #     print( sum([math.log(condProb(x, langModTrans)) for x in bigrams]) )\n",
    "\n",
    "sequenceProb(text1)\n",
    "sequenceProb(text2)\n",
    "sequenceProb(text3)\n",
    "sequenceProb(text4)\n",
    "sequenceProb(text5)\n",
    "sequenceProb(text6)"
   ]
  },
  {
   "cell_type": "code",
   "execution_count": null,
   "metadata": {
    "collapsed": true
   },
   "outputs": [],
   "source": [
    "print(math.log(0.09))\n",
    "print(math.log(0.9) + math.log(0.1))\n",
    "print(math.log(0.01))\n",
    "print(math.log(0.1) + math.log(0.1))\n",
    "\n",
    "print(sum(map(math.log, [1,3,5])))\n",
    "a = math.log(0.1) + math.log(0.3) + math.log(0.5)\n",
    "print(a)\n",
    "math.exp(a)"
   ]
  },
  {
   "cell_type": "code",
   "execution_count": 43,
   "metadata": {
    "scrolled": true
   },
   "outputs": [],
   "source": [
    "data0109 = pd.read_csv('data0109.csv')\n",
    "data0109 = data0109.dropna()\n",
    "jieba.load_userdict(\"/usr/local/lib/python3.5/dist-packages/jieba/user.dict\")\n",
    "\n",
    "# person = '羅婷'\n",
    "people = list(set(data0109.dropna()['new_Interviewer']))\n",
    "departs = list(set(data0109.dropna()['部門']))\n",
    "\n",
    "with open('test.csv', \"a\") as fp:\n",
    "    wr = csv.writer(fp, dialect='excel', quotechar = '\"')\n",
    "    wr.writerow(['person', 'date', 'sequenceProb', 'corpusNew'])\n",
    "\n",
    "for person in people:\n",
    "    dates = list(set(data0109[data0109['new_Interviewer'] == person]['訪談日期']))\n",
    "    # records = data0109[data0109['new_Interviewer'] == '賴軒如']['new_GeneralInformation']\n",
    "    for date in dates:\n",
    "        records = data0109.loc[(data0109['new_Interviewer'] == person) &\n",
    "                               (data0109['訪談日期'] == date)]['new_GeneralInformation']\n",
    "\n",
    "        records = records.dropna()\n",
    "\n",
    "        corpus = []\n",
    "        for record in records:\n",
    "            seg_list = jieba.cut(record, cut_all=False)\n",
    "            corpus.append(' '.join(seg_list))\n",
    "        corpusNew = [re.sub(r\"[「」（）()]\", '', i) for i in corpus]\n",
    "        corpusNew = [re.sub(r\"[一二三四五六七八九] 、\", '', i) for i in corpusNew]\n",
    "        corpusNew = [re.sub(r\" [一二三四五六七八九] \", '', i) for i in corpusNew]\n",
    "        corpusNew = [re.sub(r\"[0-9] .\", '', i) for i in corpusNew]\n",
    "        corpusNew = [re.sub(r\"[ ]+\", ' ', i) for i in corpusNew]\n",
    "        corpusNew = [re.sub(r\"^[ ]\", '', i) for i in corpusNew]\n",
    "\n",
    "        counter = CountVectorizer(ngram_range=(1,2))\n",
    "        langMod = counter.fit_transform(corpusNew)\n",
    "        langModTrans = langMod.toarray().transpose()\n",
    "\n",
    "        for i in range(len(corpusNew)):\n",
    "            with open('test.csv', \"a\") as fp:\n",
    "                wr = csv.writer(fp, dialect='excel', quotechar = '\"')\n",
    "                wr.writerow([person, date, sequenceProb(corpusNew[i]), corpusNew[i]])\n"
   ]
  },
  {
   "cell_type": "code",
   "execution_count": 63,
   "metadata": {
    "scrolled": true
   },
   "outputs": [
    {
     "data": {
      "text/plain": [
       "(5506, 2)"
      ]
     },
     "execution_count": 63,
     "metadata": {},
     "output_type": "execute_result"
    }
   ],
   "source": [
    "test = pd.read_csv('test.csv')\n",
    "output = pd.merge(test,\n",
    "                 data0109[['new_Interviewer', '部門']].rename(index=str, columns={\"new_Interviewer\": \"person\", \"部門\": \"depart\"}),\n",
    "                 how='left',\n",
    "                 on='person')\n",
    "# output.to_csv('output.csv', index=False)\n",
    "data0109[['new_Interviewer', '部門']].rename(index=str, columns={\"new_Interviewer\": \"person\", \"部門\": \"depart\"}).shape\n",
    "# output.shape"
   ]
  },
  {
   "cell_type": "code",
   "execution_count": 41,
   "metadata": {
    "collapsed": true
   },
   "outputs": [],
   "source": [
    "def condProb(bigram, langModTrans):\n",
    "    cond = bigram.split(' ')[0]\n",
    "    loc0 = counter.vocabulary_.get(cond)\n",
    "    loc1 = counter.vocabulary_.get(bigram)\n",
    "    prob = sum(langModTrans[loc1]) / sum(langModTrans[loc0])\n",
    "    return prob\n",
    "# condProb('come again', langModTrans)\n",
    "\n",
    "def parseSeq(query):\n",
    "    counterTemp = CountVectorizer(ngram_range=(2,2))\n",
    "    langModTemp = counterTemp.fit_transform([query])\n",
    "    bigrams = counterTemp.get_feature_names()\n",
    "    return bigrams\n",
    "\n",
    "# text1 = \"It's good, Jinbao says I would like to come again.\"\n",
    "# parseSeq(text2)\n",
    "\n",
    "def sequenceProb(query):\n",
    "    try:\n",
    "        bigrams = parseSeq(query)\n",
    "        logProb = sum(map(lambda x: math.log(condProb(x, langModTrans)), bigrams))\n",
    "        return math.exp(logProb)\n",
    "    except:\n",
    "        return 'Exception'\n",
    "\n",
    "# counter = CountVectorizer(ngram_range=(1,2))\n",
    "# langMod = counter.fit_transform(corpusNew)\n",
    "# langModTrans = langMod.toarray().transpose()\n",
    "\n",
    "# for i in range(len(corpusNew)):\n",
    "#     with open('test2.csv', \"a\") as fp:\n",
    "#         wr = csv.writer(fp, dialect='excel', quotechar = '\"')\n",
    "#         wr.writerow([sequenceProb(corpusNew[i]), corpusNew[i]])\n",
    "# parseSeq(corpus[i])"
   ]
  },
  {
   "cell_type": "code",
   "execution_count": 40,
   "metadata": {},
   "outputs": [
    {
     "name": "stdout",
     "output_type": "stream",
     "text": [
      "武樺 國際 是 經貿網 免費會員 主要 出口 至 菲律賓 來電 詢問 經貿網 相關 問題 推廣 經貿網 及國貿 課程\n",
      "1.143605336741862e-19\n"
     ]
    }
   ],
   "source": [
    "i = 17\n",
    "print(corpusNew[i])\n",
    "sequenceProb(corpusNew[i])\n",
    "# parseSeq(corpus[i])"
   ]
  },
  {
   "cell_type": "code",
   "execution_count": 6,
   "metadata": {
    "scrolled": true
   },
   "outputs": [
    {
     "data": {
      "text/plain": [
       "['會本部. 產業拓展處',\n",
       " '會本部. 台北國際展會營運中心(會)',\n",
       " '會本部. 展覽業務處',\n",
       " '會本部. 南港國際展覽中心',\n",
       " '會本部. 國際企業人才培訓中心',\n",
       " '會本部. 市場拓展處',\n",
       " '會本部. 市場拓展處(原)',\n",
       " '會本部. 服務業推廣中心',\n",
       " '會本部. 行銷專案處',\n",
       " '會本部. 數位商務處',\n",
       " '會本部. 台北國際展會營運中心',\n",
       " '會本部. EBS',\n",
       " '會本部. 市場研究處(原)',\n",
       " '會本部. 資訊及數據中心',\n",
       " '會本部. 行政業務處']"
      ]
     },
     "execution_count": 6,
     "metadata": {},
     "output_type": "execute_result"
    }
   ],
   "source": [
    "# data0109[data0109['new_Interviewer'] == '羅婷']#['new_GeneralInformation']\n",
    "# list(set(data0109[data0109['new_Interviewer'] == '羅婷']['訪談日期']))\n",
    "# data0109\n",
    "data0109 = pd.read_csv('data0109.csv')\n",
    "list(set(data0109.dropna()['部門']))\n"
   ]
  },
  {
   "cell_type": "code",
   "execution_count": null,
   "metadata": {
    "collapsed": true,
    "scrolled": true
   },
   "outputs": [],
   "source": [
    "records = records.dropna()\n",
    "bigText = ''\n",
    "for record in records:\n",
    "    bigText += record\n",
    "bigText"
   ]
  },
  {
   "cell_type": "code",
   "execution_count": null,
   "metadata": {
    "collapsed": true
   },
   "outputs": [],
   "source": [
    "jieba.analyse.extract_tags(bigText, topK=10, withWeight=True, allowPOS=())"
   ]
  },
  {
   "cell_type": "code",
   "execution_count": 18,
   "metadata": {
    "scrolled": true
   },
   "outputs": [
    {
     "name": "stderr",
     "output_type": "stream",
     "text": [
      "Building prefix dict from the default dictionary ...\n",
      "Loading model from cache /tmp/jieba.cache\n",
      "Loading model cost 0.851 seconds.\n",
      "Prefix dict has been built succesfully.\n"
     ]
    },
    {
     "name": "stdout",
     "output_type": "stream",
     "text": [
      "1. 該司產品住要供海事使用。民用產品很少2. 已決定參加2018「高雄國際海事船舶暨國防工業展」，不考慮遊艇展\n"
     ]
    },
    {
     "ename": "AttributeError",
     "evalue": "module 'jieba' has no attribute 'analyse'",
     "output_type": "error",
     "traceback": [
      "\u001b[0;31m---------------------------------------------------------------------------\u001b[0m",
      "\u001b[0;31mAttributeError\u001b[0m                            Traceback (most recent call last)",
      "\u001b[0;32m<ipython-input-18-7748e5f059bb>\u001b[0m in \u001b[0;36m<module>\u001b[0;34m()\u001b[0m\n\u001b[1;32m      5\u001b[0m \u001b[0mi\u001b[0m \u001b[0;34m=\u001b[0m \u001b[0;36m1\u001b[0m\u001b[0;34m\u001b[0m\u001b[0m\n\u001b[1;32m      6\u001b[0m \u001b[0mprint\u001b[0m\u001b[0;34m(\u001b[0m\u001b[0mrecords\u001b[0m\u001b[0;34m[\u001b[0m\u001b[0mi\u001b[0m\u001b[0;34m]\u001b[0m\u001b[0;34m)\u001b[0m\u001b[0;34m\u001b[0m\u001b[0m\n\u001b[0;32m----> 7\u001b[0;31m \u001b[0mjieba\u001b[0m\u001b[0;34m.\u001b[0m\u001b[0manalyse\u001b[0m\u001b[0;34m.\u001b[0m\u001b[0mextract_tags\u001b[0m\u001b[0;34m(\u001b[0m\u001b[0mrecords\u001b[0m\u001b[0;34m[\u001b[0m\u001b[0mi\u001b[0m\u001b[0;34m]\u001b[0m\u001b[0;34m,\u001b[0m \u001b[0mtopK\u001b[0m\u001b[0;34m=\u001b[0m\u001b[0;36m10\u001b[0m\u001b[0;34m,\u001b[0m \u001b[0mwithWeight\u001b[0m\u001b[0;34m=\u001b[0m\u001b[0;32mTrue\u001b[0m\u001b[0;34m,\u001b[0m \u001b[0mallowPOS\u001b[0m\u001b[0;34m=\u001b[0m\u001b[0;34m(\u001b[0m\u001b[0;34m)\u001b[0m\u001b[0;34m)\u001b[0m\u001b[0;34m\u001b[0m\u001b[0m\n\u001b[0m",
      "\u001b[0;31mAttributeError\u001b[0m: module 'jieba' has no attribute 'analyse'"
     ]
    }
   ],
   "source": [
    "# jieba.analyse.extract_tags(bigText, topK=10, withWeight=True, allowPOS=())\n",
    "# import jieba.analyse\n",
    "jieba.load_userdict(\"/usr/local/lib/python3.5/dist-packages/jieba/user.dict\")\n",
    "# jieba.analyse.TFIDF(idf_path=None)\n",
    "i = 1\n",
    "print(records[i])\n",
    "jieba.analyse.extract_tags(records[i], topK=10, withWeight=True, allowPOS=())\n"
   ]
  },
  {
   "cell_type": "code",
   "execution_count": null,
   "metadata": {
    "collapsed": true,
    "scrolled": true
   },
   "outputs": [],
   "source": [
    "jieba.load_userdict(\"/usr/local/lib/python3.5/dist-packages/jieba/user.dict\")\n",
    "corpus = []\n",
    "for record in records:\n",
    "    seg_list = jieba.cut(record, cut_all=False)\n",
    "    corpus.append(' '.join(seg_list))\n",
    "corpus\n"
   ]
  },
  {
   "cell_type": "code",
   "execution_count": null,
   "metadata": {
    "collapsed": true
   },
   "outputs": [],
   "source": [
    "import jieba.analyse\n",
    "\n",
    "jieba.analyse.extract_tags(records[40], topK=3, withWeight=False, allowPOS=())"
   ]
  },
  {
   "cell_type": "code",
   "execution_count": null,
   "metadata": {
    "collapsed": true,
    "scrolled": true
   },
   "outputs": [],
   "source": [
    "counter = CountVectorizer(ngram_range=(1,2))\n",
    "langMod = counter.fit_transform(corpus)\n",
    "langModTrans = langMod.toarray().transpose()\n",
    "\n",
    "def condProb(bigram, langModTrans):\n",
    "    cond = bigram.split(' ')[0]\n",
    "    loc0 = counter.vocabulary_.get(cond)\n",
    "    loc1 = counter.vocabulary_.get(bigram)\n",
    "    print('{} / {}'.format(sum(langModTrans[loc1]), sum(langModTrans[loc0])))\n",
    "    prob = sum(langModTrans[loc1]) / sum(langModTrans[loc0])\n",
    "    return prob\n",
    "# condProb('come again', langModTrans)\n",
    "\n",
    "def parseSeq(query):\n",
    "    counterTemp = CountVectorizer(ngram_range=(2,2))\n",
    "    langModTemp = counterTemp.fit_transform([query])\n",
    "    bigrams = counterTemp.get_feature_names()\n",
    "    return bigrams\n",
    "\n",
    "# text1 = \"It's good, Jinbao says I would like to come again.\"\n",
    "# parseSeq(text2)\n",
    "\n",
    "def sequenceProb(query):\n",
    "    bigrams = parseSeq(query)\n",
    "#     for bigram in bigrams:\n",
    "#         print( -math.log(condProb(bigram, langModTrans)))\n",
    "    logProb = sum(map(lambda x: math.log(condProb(x, langModTrans)), bigrams))\n",
    "    print(math.exp(logProb))\n",
    "    #     print( sum([math.log(condProb(x, langModTrans)) for x in bigrams]) )\n",
    "\n",
    "sequenceProb(corpus[0])\n",
    "sequenceProb(corpus[1])\n",
    "sequenceProb(corpus[2])\n",
    "sequenceProb(corpus[3])\n",
    "sequenceProb(corpus[4])"
   ]
  },
  {
   "cell_type": "code",
   "execution_count": null,
   "metadata": {
    "collapsed": true
   },
   "outputs": [],
   "source": [
    "# condProb('前來 本處', langModTrans)\n",
    "condProb('巴西 日本', langModTrans)\n",
    "condProb('海外 機率', langModTrans)\n"
   ]
  },
  {
   "cell_type": "code",
   "execution_count": null,
   "metadata": {
    "collapsed": true
   },
   "outputs": [],
   "source": [
    "for i in range(1,10):\n",
    "    print('')\n",
    "    for j in range(1,10):\n",
    "        print('%2d' % (i * j), end=' ')\n",
    "\n",
    "for i in range(100):\n",
    "    if int(i % 10) == 0: print('')\n",
    "    if int(i / 10) * (i % 10) != 0:\n",
    "        print('%2d' % (int(i / 10) * (i % 10)), end=' ')"
   ]
  },
  {
   "cell_type": "code",
   "execution_count": null,
   "metadata": {
    "collapsed": true,
    "scrolled": true
   },
   "outputs": [],
   "source": [
    "# 1 , 1 , 2 , 3 , 5 , 8 , 13 , 21 , 34 , 55 , 89 , 144\n",
    "def main(n):\n",
    "    def feb(n):\n",
    "        if n == 0:\n",
    "            return 1\n",
    "        if n == 1:\n",
    "            return 1\n",
    "        if febList[n]:\n",
    "            return febList[n]\n",
    "        ans = feb(n - 1) + feb(n - 2)\n",
    "        febList[n] = ans\n",
    "        return ans\n",
    "    febList = [0] * (n+1)\n",
    "    answer = feb(n)\n",
    "    print(febList)\n",
    "    return answer\n",
    "# main(144)\n",
    "\n",
    "def feb(n):\n",
    "    febList = [1] * (n)\n",
    "    for i in range(2,n):\n",
    "        febList[i] = febList[i-1] + febList[i-2]\n",
    "    return febList[n-1]\n",
    "feb(288)"
   ]
  },
  {
   "cell_type": "code",
   "execution_count": null,
   "metadata": {
    "collapsed": true,
    "scrolled": true
   },
   "outputs": [],
   "source": [
    "comp104 = pd.read_csv('company104_20180307.csv')\n",
    "records = comp104['description']\n",
    "\n",
    "jieba.load_userdict(\"/usr/local/lib/python3.5/dist-packages/jieba/comp104.dict\")\n",
    "comp104['corpus'] = pd.Series('')\n",
    "\n",
    "for i in range(len(records)):\n",
    "    try:\n",
    "        seg_list = jieba.cut(records[i], cut_all=False)\n",
    "        comp104.at[i,'corpus'] = ' '.join(seg_list)\n",
    "    except:\n",
    "        continue\n",
    "comp104"
   ]
  },
  {
   "cell_type": "code",
   "execution_count": null,
   "metadata": {
    "collapsed": true
   },
   "outputs": [],
   "source": [
    "comp104 = comp104.dropna()"
   ]
  },
  {
   "cell_type": "code",
   "execution_count": null,
   "metadata": {
    "collapsed": true,
    "scrolled": true
   },
   "outputs": [],
   "source": [
    "from sklearn.feature_extraction.text import TfidfVectorizer\n",
    "tfidf = TfidfVectorizer()\n",
    "tfs = tfidf.fit_transform(comp104['corpus'].dropna())"
   ]
  },
  {
   "cell_type": "code",
   "execution_count": null,
   "metadata": {
    "collapsed": true,
    "scrolled": true
   },
   "outputs": [],
   "source": [
    "x = tfs.toarray()"
   ]
  },
  {
   "cell_type": "code",
   "execution_count": null,
   "metadata": {
    "collapsed": true,
    "scrolled": true
   },
   "outputs": [],
   "source": [
    "from sklearn.cluster import KMeans\n",
    "kmeans = KMeans(n_clusters=8).fit(tfs)"
   ]
  },
  {
   "cell_type": "code",
   "execution_count": null,
   "metadata": {
    "collapsed": true,
    "scrolled": true
   },
   "outputs": [],
   "source": [
    "comp104['label'] = pd.Series(kmeans.labels_)\n"
   ]
  },
  {
   "cell_type": "code",
   "execution_count": null,
   "metadata": {
    "collapsed": true
   },
   "outputs": [],
   "source": [
    "comp104[comp104['label']==5.0]"
   ]
  },
  {
   "cell_type": "code",
   "execution_count": null,
   "metadata": {
    "collapsed": true
   },
   "outputs": [],
   "source": [
    "kmeans.cluster_centers_"
   ]
  },
  {
   "cell_type": "code",
   "execution_count": null,
   "metadata": {
    "collapsed": true
   },
   "outputs": [],
   "source": [
    "# clustering dataset\n",
    "# determine k using elbow method\n",
    "\n",
    "from sklearn.cluster import KMeans\n",
    "from sklearn import metrics\n",
    "from scipy.spatial.distance import cdist\n",
    "import numpy as np\n",
    "import matplotlib.pyplot as plt\n",
    "\n",
    "# create new plot and data\n",
    "plt.plot()\n",
    "X = tfs\n",
    "colors = ['b', 'g', 'r']\n",
    "markers = ['o', 'v', 's']\n",
    "\n",
    "# k means determine k\n",
    "distortions = []\n",
    "K = range(40,60)\n",
    "for k in K:\n",
    "    print(k)\n",
    "    kmeanModel = KMeans(n_clusters=k).fit(X)\n",
    "    distortions.append(sum(np.min(pairwise_distances(X, kmeanModel.cluster_centers_, metric='euclidean'), axis=1)) / X.shape[0])\n",
    "\n",
    "# Plot the elbow\n",
    "plt.plot(K, distortions, 'bx-')\n",
    "plt.xlabel('k')\n",
    "plt.ylabel('Distortion')\n",
    "plt.title('The Elbow Method showing the optimal k')\n",
    "plt.show()"
   ]
  },
  {
   "cell_type": "code",
   "execution_count": null,
   "metadata": {
    "collapsed": true
   },
   "outputs": [],
   "source": [
    "# sum(np.min(cdist(X, kmeanModel.cluster_centers_, 'euclidean'), axis=1))\n",
    "# X.shape[0]\n",
    "from sklearn.metrics.pairwise import pairwise_distances\n",
    "pairwise_distances(X, kmeanModel.cluster_centers_, metric='euclidean')"
   ]
  },
  {
   "cell_type": "code",
   "execution_count": null,
   "metadata": {
    "collapsed": true
   },
   "outputs": [],
   "source": []
  },
  {
   "cell_type": "code",
   "execution_count": null,
   "metadata": {
    "collapsed": true
   },
   "outputs": [],
   "source": []
  }
 ],
 "metadata": {
  "kernelspec": {
   "display_name": "Python 3",
   "language": "python",
   "name": "python3"
  },
  "language_info": {
   "codemirror_mode": {
    "name": "ipython",
    "version": 3
   },
   "file_extension": ".py",
   "mimetype": "text/x-python",
   "name": "python",
   "nbconvert_exporter": "python",
   "pygments_lexer": "ipython3",
   "version": "3.5.2"
  }
 },
 "nbformat": 4,
 "nbformat_minor": 2
}
