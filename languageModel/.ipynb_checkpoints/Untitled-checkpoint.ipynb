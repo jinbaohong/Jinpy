{
 "cells": [
  {
   "cell_type": "code",
   "execution_count": 10,
   "metadata": {},
   "outputs": [],
   "source": [
    "from sklearn.feature_extraction.text import CountVectorizer\n",
    "import numpy as np\n",
    "import pandas as pd\n",
    "import csv\n",
    "import math"
   ]
  },
  {
   "cell_type": "code",
   "execution_count": 5,
   "metadata": {
    "scrolled": true
   },
   "outputs": [
    {
     "name": "stdout",
     "output_type": "stream",
     "text": [
      "['again', 'again it', 'an', 'an excellent', 'badb', 'badb says', 'be', 'be come', 'but', 'but won', 'come', 'come again', 'come an', 'excellent', 'excellent one', 'ginny', 'ginny says', 'good', 'good badb', 'good ginny', 'good jinbao', 'good meer', 'good penny', 'it', 'it good', 'it might', 'jinbao', 'jinbao says', 'like', 'like to', 'meer', 'meer says', 'might', 'might be', 'one', 'one but', 'penny', 'penny says', 'says', 'says would', 'to', 'to come', 'won', 'won come', 'would', 'would like']\n",
      "> counter.transform([query]).toarray()\n",
      "[[0 0 0 0 0 0 0 0 0 0 0 0 0 0 0 0 0 1 0 0 0 0 0 1 1 0 0 0 0 0 0 0 0 0 0 0 0\n",
      "  0 0 0 0 0 0 0 0 0]]\n",
      "> langMod.toarray()\n",
      "[[1 0 0 0 0 0 0 0 0 0 1 1 0 0 0 0 0 1 0 0 1 0 0 1 1 0 1 1 1 1 0 0 0 0 0 0 0\n",
      "  0 1 1 1 1 0 0 1 1]\n",
      " [1 1 0 0 0 0 0 0 0 0 1 1 0 0 0 0 0 2 0 0 0 1 0 2 2 0 0 0 1 1 1 1 0 0 0 0 0\n",
      "  0 1 1 1 1 0 0 1 1]\n",
      " [1 0 1 1 0 0 1 1 1 1 2 1 1 1 1 0 0 0 0 0 0 0 0 1 0 1 0 0 0 0 0 0 1 1 1 1 0\n",
      "  0 0 0 0 0 1 1 0 0]\n",
      " [1 0 0 0 0 0 0 0 0 0 1 1 0 0 0 1 1 1 0 1 0 0 0 1 1 0 0 0 1 1 0 0 0 0 0 0 0\n",
      "  0 1 1 1 1 0 0 1 1]\n",
      " [1 0 0 0 0 0 0 0 0 0 1 1 0 0 0 0 0 1 0 0 0 0 1 1 1 0 0 0 1 1 0 0 0 0 0 0 1\n",
      "  1 1 1 1 1 0 0 1 1]\n",
      " [1 0 0 0 1 1 0 0 0 0 1 1 0 0 0 0 0 1 1 0 0 0 0 1 1 0 0 0 1 1 0 0 0 0 0 0 0\n",
      "  0 1 1 1 1 0 0 1 1]]\n",
      "> Test P( again | come )\n",
      "0.857142857143\n"
     ]
    }
   ],
   "source": [
    "text1 = \"It's good, Jinbao says I would like to come again.\"\n",
    "text2 = \"It's good, Meer says I would like to come again it good.\"\n",
    "text3 = \"It might be come an excellent one. But I won't come again.\"\n",
    "text4 = \"It's good, Ginny says I would like to come again.\"\n",
    "text5 = \"It's good, Penny says I would like to come again.\"\n",
    "text6 = \"It's good, BadB says I would like to come again.\"\n",
    "corpus = tuple([text1, text2, text3, text4, text5, text6])\n",
    "\n",
    "\n",
    "counter = CountVectorizer(ngram_range=(1,2))\n",
    "langMod = counter.fit_transform(corpus)\n",
    "\n",
    "# langMod.toarray()\n",
    "print(counter.get_feature_names())\n",
    "query = \"It's good\"#, Jinbao says I would like to come again.\"\n",
    "print('> counter.transform([query]).toarray()')\n",
    "print(counter.transform([query]).toarray())\n",
    "print('> langMod.toarray()')\n",
    "print(langMod.toarray())\n",
    "print('> Test P( again | come )')\n",
    "loc0 = counter.vocabulary_.get('come')\n",
    "loc1 = counter.vocabulary_.get('come again')\n",
    "\n",
    "print(sum(langMod.toarray().transpose()[loc1]) / sum(langMod.toarray().transpose()[loc0]))"
   ]
  },
  {
   "cell_type": "code",
   "execution_count": 35,
   "metadata": {
    "scrolled": true
   },
   "outputs": [
    {
     "name": "stdout",
     "output_type": "stream",
     "text": [
      "-2.1000608288825715\n",
      "-3.8918202981106265\n",
      "-4.045970977937886\n",
      "-2.1000608288825715\n",
      "-2.1000608288825715\n"
     ]
    }
   ],
   "source": [
    "langModTrans = langMod.toarray().transpose()\n",
    "\n",
    "def condProb(bigram, langModTrans):\n",
    "    cond = bigram.split(' ')[0]\n",
    "    loc0 = counter.vocabulary_.get(cond)\n",
    "    loc1 = counter.vocabulary_.get(bigram)\n",
    "    prob = sum(langModTrans[loc1]) / sum(langModTrans[loc0])\n",
    "    return prob\n",
    "# condProb('come again', langModTrans)\n",
    "\n",
    "def parseSeq(query):\n",
    "    counterTemp = CountVectorizer(ngram_range=(2,2))\n",
    "    langModTemp = counterTemp.fit_transform([query])\n",
    "    bigrams = counterTemp.get_feature_names()\n",
    "    return bigrams\n",
    "\n",
    "# text1 = \"It's good, Jinbao says I would like to come again.\"\n",
    "# parseSeq(text2)\n",
    "\n",
    "def sequenceProb(query):\n",
    "    bigrams = parseSeq(query)\n",
    "#     for bigram in bigrams:\n",
    "#         print( -math.log(condProb(bigram, langModTrans)))\n",
    "    print(sum(map(lambda x: math.log(condProb(x, langModTrans)), bigrams)))\n",
    "#     print( sum([math.log(condProb(x, langModTrans)) for x in bigrams]) )\n",
    "\n",
    "sequenceProb(text1)\n",
    "sequenceProb(text2)\n",
    "sequenceProb(text3)\n",
    "sequenceProb(text4)\n",
    "sequenceProb(text5)"
   ]
  },
  {
   "cell_type": "code",
   "execution_count": 25,
   "metadata": {},
   "outputs": [
    {
     "name": "stdout",
     "output_type": "stream",
     "text": [
      "-2.4079456086518722\n",
      "-2.407945608651872\n",
      "-4.605170185988091\n",
      "-4.605170185988091\n",
      "2.70805020110221\n"
     ]
    },
    {
     "data": {
      "text/plain": [
       "2.70805020110221"
      ]
     },
     "execution_count": 25,
     "metadata": {},
     "output_type": "execute_result"
    }
   ],
   "source": [
    "print(math.log(0.09))\n",
    "print(math.log(0.9) + math.log(0.1))\n",
    "print(math.log(0.01))\n",
    "print(math.log(0.1) + math.log(0.1))\n",
    "\n",
    "print(sum(map(math.log, [1,3,5])))\n",
    "math.log(1) + math.log(3) + math.log(5)"
   ]
  },
  {
   "cell_type": "code",
   "execution_count": null,
   "metadata": {
    "collapsed": true
   },
   "outputs": [],
   "source": []
  }
 ],
 "metadata": {
  "kernelspec": {
   "display_name": "Python 3",
   "language": "python",
   "name": "python3"
  },
  "language_info": {
   "codemirror_mode": {
    "name": "ipython",
    "version": 3
   },
   "file_extension": ".py",
   "mimetype": "text/x-python",
   "name": "python",
   "nbconvert_exporter": "python",
   "pygments_lexer": "ipython3",
   "version": "3.5.2"
  }
 },
 "nbformat": 4,
 "nbformat_minor": 2
}
