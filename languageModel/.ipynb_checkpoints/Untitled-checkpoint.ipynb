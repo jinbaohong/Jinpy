{
 "cells": [
  {
   "cell_type": "code",
   "execution_count": 1,
   "metadata": {
    "collapsed": true
   },
   "outputs": [],
   "source": [
    "from sklearn.feature_extraction.text import CountVectorizer\n",
    "import numpy as np\n",
    "import pandas as pd\n",
    "import csv\n",
    "import math\n",
    "import jieba"
   ]
  },
  {
   "cell_type": "code",
   "execution_count": 14,
   "metadata": {
    "scrolled": true
   },
   "outputs": [
    {
     "name": "stdout",
     "output_type": "stream",
     "text": [
      "['again', 'again it', 'an', 'an excellent', 'badb', 'badb says', 'be', 'be come', 'but', 'but won', 'come', 'come again', 'come an', 'excellent', 'excellent one', 'ginny', 'ginny says', 'good', 'good badb', 'good ginny', 'good jinbao', 'good meer', 'good penny', 'it', 'it good', 'it might', 'jinbao', 'jinbao says', 'like', 'like to', 'meer', 'meer says', 'might', 'might be', 'one', 'one but', 'penny', 'penny says', 'says', 'says would', 'to', 'to come', 'won', 'won come', 'would', 'would like']\n",
      "> counter.transform([query]).toarray()\n",
      "[[0 0 0 0 0 0 0 0 0 0 0 0 0 0 0 0 0 1 0 0 0 0 0 1 1 0 0 0 0 0 0 0 0 0 0 0 0\n",
      "  0 0 0 0 0 0 0 0 0]]\n",
      "> langMod.toarray()\n",
      "[[1 0 0 0 0 0 0 0 0 0 1 1 0 0 0 0 0 1 0 0 1 0 0 1 1 0 1 1 1 1 0 0 0 0 0 0 0\n",
      "  0 1 1 1 1 0 0 1 1]\n",
      " [1 1 0 0 0 0 0 0 0 0 1 1 0 0 0 0 0 2 0 0 0 1 0 2 2 0 0 0 1 1 1 1 0 0 0 0 0\n",
      "  0 1 1 1 1 0 0 1 1]\n",
      " [1 0 1 1 0 0 1 1 1 1 2 1 1 1 1 0 0 0 0 0 0 0 0 1 0 1 0 0 0 0 0 0 1 1 1 1 0\n",
      "  0 0 0 0 0 1 1 0 0]\n",
      " [1 0 0 0 0 0 0 0 0 0 1 1 0 0 0 1 1 1 0 1 0 0 0 1 1 0 0 0 1 1 0 0 0 0 0 0 0\n",
      "  0 1 1 1 1 0 0 1 1]\n",
      " [1 0 0 0 0 0 0 0 0 0 1 1 0 0 0 0 0 1 0 0 0 0 1 1 1 0 0 0 1 1 0 0 0 0 0 0 1\n",
      "  1 1 1 1 1 0 0 1 1]\n",
      " [1 0 0 0 1 1 0 0 0 0 1 1 0 0 0 0 0 1 1 0 0 0 0 1 1 0 0 0 1 1 0 0 0 0 0 0 0\n",
      "  0 1 1 1 1 0 0 1 1]]\n",
      "> Test P( again | come )\n",
      "0.857142857143\n"
     ]
    }
   ],
   "source": [
    "text1 = \"It's good, Jinbao says I would like to come again.\"\n",
    "text2 = \"It's good, Meer says I would like to come again it good.\"\n",
    "text3 = \"It might be come an excellent one. But I won't come again.\"\n",
    "text4 = \"It's good, Ginny says I would like to come again.\"\n",
    "text5 = \"It's good, Penny says I would like to come again.\"\n",
    "text6 = \"It's good, BadB says I would like to come again.\"\n",
    "corpus = tuple([text1, text2, text3, text4, text5, text6])\n",
    "\n",
    "\n",
    "counter = CountVectorizer(ngram_range=(1,2))\n",
    "langMod = counter.fit_transform(corpus)\n",
    "\n",
    "# langMod.toarray()\n",
    "print(counter.get_feature_names())\n",
    "query = \"It's good\"#, Jinbao says I would like to come again.\"\n",
    "print('> counter.transform([query]).toarray()')\n",
    "print(counter.transform([query]).toarray())\n",
    "print('> langMod.toarray()')\n",
    "print(langMod.toarray())\n",
    "print('> Test P( again | come )')\n",
    "loc0 = counter.vocabulary_.get('come')\n",
    "loc1 = counter.vocabulary_.get('come again')\n",
    "\n",
    "print(sum(langMod.toarray().transpose()[loc1]) / sum(langMod.toarray().transpose()[loc0]))"
   ]
  },
  {
   "cell_type": "code",
   "execution_count": 15,
   "metadata": {
    "scrolled": true
   },
   "outputs": [
    {
     "name": "stdout",
     "output_type": "stream",
     "text": [
      "0.12244897959183675\n",
      "0.020408163265306124\n",
      "0.017492711370262374\n",
      "0.12244897959183675\n",
      "0.12244897959183675\n"
     ]
    }
   ],
   "source": [
    "counter = CountVectorizer(ngram_range=(1,2))\n",
    "langMod = counter.fit_transform(corpus)\n",
    "langModTrans = langMod.toarray().transpose()\n",
    "\n",
    "def condProb(bigram, langModTrans):\n",
    "    cond = bigram.split(' ')[0]\n",
    "    loc0 = counter.vocabulary_.get(cond)\n",
    "    loc1 = counter.vocabulary_.get(bigram)\n",
    "    prob = sum(langModTrans[loc1]) / sum(langModTrans[loc0])\n",
    "    return prob\n",
    "# condProb('come again', langModTrans)\n",
    "\n",
    "def parseSeq(query):\n",
    "    counterTemp = CountVectorizer(ngram_range=(2,2))\n",
    "    langModTemp = counterTemp.fit_transform([query])\n",
    "    bigrams = counterTemp.get_feature_names()\n",
    "    return bigrams\n",
    "\n",
    "# text1 = \"It's good, Jinbao says I would like to come again.\"\n",
    "# parseSeq(text2)\n",
    "\n",
    "def sequenceProb(query):\n",
    "    bigrams = parseSeq(query)\n",
    "#     for bigram in bigrams:\n",
    "#         print( -math.log(condProb(bigram, langModTrans)))\n",
    "    logProb = sum(map(lambda x: math.log(condProb(x, langModTrans)), bigrams))\n",
    "    print(math.exp(logProb))\n",
    "    #     print( sum([math.log(condProb(x, langModTrans)) for x in bigrams]) )\n",
    "\n",
    "sequenceProb(text1)\n",
    "sequenceProb(text2)\n",
    "sequenceProb(text3)\n",
    "sequenceProb(text4)\n",
    "sequenceProb(text5)"
   ]
  },
  {
   "cell_type": "code",
   "execution_count": 43,
   "metadata": {},
   "outputs": [
    {
     "name": "stdout",
     "output_type": "stream",
     "text": [
      "-2.4079456086518722\n",
      "-2.407945608651872\n",
      "-4.605170185988091\n",
      "-4.605170185988091\n",
      "2.70805020110221\n",
      "-4.199705077879927\n"
     ]
    },
    {
     "data": {
      "text/plain": [
       "0.014999999999999998"
      ]
     },
     "execution_count": 43,
     "metadata": {},
     "output_type": "execute_result"
    }
   ],
   "source": [
    "print(math.log(0.09))\n",
    "print(math.log(0.9) + math.log(0.1))\n",
    "print(math.log(0.01))\n",
    "print(math.log(0.1) + math.log(0.1))\n",
    "\n",
    "print(sum(map(math.log, [1,3,5])))\n",
    "a = math.log(0.1) + math.log(0.3) + math.log(0.5)\n",
    "print(a)\n",
    "math.exp(a)"
   ]
  },
  {
   "cell_type": "code",
   "execution_count": 20,
   "metadata": {
    "scrolled": true
   },
   "outputs": [],
   "source": [
    "data0109 = pd.read_csv('data0109.csv')\n",
    "records = data0109['new_GeneralInformation']"
   ]
  },
  {
   "cell_type": "code",
   "execution_count": 24,
   "metadata": {
    "scrolled": true
   },
   "outputs": [
    {
     "ename": "AttributeError",
     "evalue": "'float' object has no attribute 'decode'",
     "output_type": "error",
     "traceback": [
      "\u001b[0;31m---------------------------------------------------------------------------\u001b[0m",
      "\u001b[0;31mAttributeError\u001b[0m                            Traceback (most recent call last)",
      "\u001b[0;32m<ipython-input-24-2cd0ed45fa1c>\u001b[0m in \u001b[0;36m<module>\u001b[0;34m()\u001b[0m\n\u001b[1;32m      3\u001b[0m \u001b[0;32mfor\u001b[0m \u001b[0mrecord\u001b[0m \u001b[0;32min\u001b[0m \u001b[0mrecords\u001b[0m\u001b[0;34m:\u001b[0m\u001b[0;34m\u001b[0m\u001b[0m\n\u001b[1;32m      4\u001b[0m     \u001b[0mseg_list\u001b[0m \u001b[0;34m=\u001b[0m \u001b[0mjieba\u001b[0m\u001b[0;34m.\u001b[0m\u001b[0mcut\u001b[0m\u001b[0;34m(\u001b[0m\u001b[0mrecord\u001b[0m\u001b[0;34m,\u001b[0m \u001b[0mcut_all\u001b[0m\u001b[0;34m=\u001b[0m\u001b[0;32mFalse\u001b[0m\u001b[0;34m)\u001b[0m\u001b[0;34m\u001b[0m\u001b[0m\n\u001b[0;32m----> 5\u001b[0;31m     \u001b[0mcorpus\u001b[0m\u001b[0;34m.\u001b[0m\u001b[0mappend\u001b[0m\u001b[0;34m(\u001b[0m\u001b[0;34m' '\u001b[0m\u001b[0;34m.\u001b[0m\u001b[0mjoin\u001b[0m\u001b[0;34m(\u001b[0m\u001b[0mseg_list\u001b[0m\u001b[0;34m)\u001b[0m\u001b[0;34m)\u001b[0m\u001b[0;34m\u001b[0m\u001b[0m\n\u001b[0m\u001b[1;32m      6\u001b[0m \u001b[0mcorpus\u001b[0m\u001b[0;34m\u001b[0m\u001b[0m\n",
      "\u001b[0;32m/usr/local/lib/python3.5/dist-packages/jieba/__init__.py\u001b[0m in \u001b[0;36mcut\u001b[0;34m(self, sentence, cut_all, HMM)\u001b[0m\n\u001b[1;32m    280\u001b[0m             \u001b[0;34m-\u001b[0m \u001b[0mHMM\u001b[0m\u001b[0;34m:\u001b[0m \u001b[0mWhether\u001b[0m \u001b[0mto\u001b[0m \u001b[0muse\u001b[0m \u001b[0mthe\u001b[0m \u001b[0mHidden\u001b[0m \u001b[0mMarkov\u001b[0m \u001b[0mModel\u001b[0m\u001b[0;34m.\u001b[0m\u001b[0;34m\u001b[0m\u001b[0m\n\u001b[1;32m    281\u001b[0m         '''\n\u001b[0;32m--> 282\u001b[0;31m         \u001b[0msentence\u001b[0m \u001b[0;34m=\u001b[0m \u001b[0mstrdecode\u001b[0m\u001b[0;34m(\u001b[0m\u001b[0msentence\u001b[0m\u001b[0;34m)\u001b[0m\u001b[0;34m\u001b[0m\u001b[0m\n\u001b[0m\u001b[1;32m    283\u001b[0m \u001b[0;34m\u001b[0m\u001b[0m\n\u001b[1;32m    284\u001b[0m         \u001b[0;32mif\u001b[0m \u001b[0mcut_all\u001b[0m\u001b[0;34m:\u001b[0m\u001b[0;34m\u001b[0m\u001b[0m\n",
      "\u001b[0;32m/usr/local/lib/python3.5/dist-packages/jieba/_compat.py\u001b[0m in \u001b[0;36mstrdecode\u001b[0;34m(sentence)\u001b[0m\n\u001b[1;32m     35\u001b[0m     \u001b[0;32mif\u001b[0m \u001b[0;32mnot\u001b[0m \u001b[0misinstance\u001b[0m\u001b[0;34m(\u001b[0m\u001b[0msentence\u001b[0m\u001b[0;34m,\u001b[0m \u001b[0mtext_type\u001b[0m\u001b[0;34m)\u001b[0m\u001b[0;34m:\u001b[0m\u001b[0;34m\u001b[0m\u001b[0m\n\u001b[1;32m     36\u001b[0m         \u001b[0;32mtry\u001b[0m\u001b[0;34m:\u001b[0m\u001b[0;34m\u001b[0m\u001b[0m\n\u001b[0;32m---> 37\u001b[0;31m             \u001b[0msentence\u001b[0m \u001b[0;34m=\u001b[0m \u001b[0msentence\u001b[0m\u001b[0;34m.\u001b[0m\u001b[0mdecode\u001b[0m\u001b[0;34m(\u001b[0m\u001b[0;34m'utf-8'\u001b[0m\u001b[0;34m)\u001b[0m\u001b[0;34m\u001b[0m\u001b[0m\n\u001b[0m\u001b[1;32m     38\u001b[0m         \u001b[0;32mexcept\u001b[0m \u001b[0mUnicodeDecodeError\u001b[0m\u001b[0;34m:\u001b[0m\u001b[0;34m\u001b[0m\u001b[0m\n\u001b[1;32m     39\u001b[0m             \u001b[0msentence\u001b[0m \u001b[0;34m=\u001b[0m \u001b[0msentence\u001b[0m\u001b[0;34m.\u001b[0m\u001b[0mdecode\u001b[0m\u001b[0;34m(\u001b[0m\u001b[0;34m'gbk'\u001b[0m\u001b[0;34m,\u001b[0m \u001b[0;34m'ignore'\u001b[0m\u001b[0;34m)\u001b[0m\u001b[0;34m\u001b[0m\u001b[0m\n",
      "\u001b[0;31mAttributeError\u001b[0m: 'float' object has no attribute 'decode'"
     ]
    }
   ],
   "source": [
    "jieba.load_userdict(\"/usr/local/lib/python3.5/dist-packages/jieba/user.dict\")\n",
    "corpus = []\n",
    "for record in records:\n",
    "    seg_list = jieba.cut(record, cut_all=False)\n",
    "    corpus.append(' '.join(seg_list))\n",
    "corpus"
   ]
  },
  {
   "cell_type": "code",
   "execution_count": 13,
   "metadata": {},
   "outputs": [
    {
     "data": {
      "text/plain": [
       "['課題', '經由', '前來']"
      ]
     },
     "execution_count": 13,
     "metadata": {},
     "output_type": "execute_result"
    }
   ],
   "source": [
    "import jieba.analyse\n",
    "\n",
    "jieba.analyse.extract_tags(records[40], topK=3, withWeight=False, allowPOS=())"
   ]
  },
  {
   "cell_type": "code",
   "execution_count": 77,
   "metadata": {
    "scrolled": true
   },
   "outputs": [
    {
     "name": "stdout",
     "output_type": "stream",
     "text": [
      "27 / 27\n",
      "65 / 65\n",
      "27 / 65\n",
      "65 / 65\n",
      "40 / 40\n",
      "27 / 27\n",
      "33 / 34\n",
      "15 / 65\n",
      "40 / 40\n",
      "27 / 27\n",
      "27 / 65\n",
      "65 / 65\n",
      "27 / 28\n",
      "40 / 65\n",
      "40 / 40\n",
      "40 / 40\n",
      "65 / 105\n",
      "40 / 105\n",
      "65 / 65\n",
      "65 / 65\n",
      "27 / 27\n",
      "27 / 27\n",
      "0.005408301040684172\n",
      "27 / 27\n",
      "65 / 65\n",
      "27 / 65\n",
      "18 / 18\n",
      "65 / 65\n",
      "40 / 40\n",
      "27 / 27\n",
      "6 / 65\n",
      "40 / 40\n",
      "27 / 27\n",
      "27 / 65\n",
      "65 / 65\n",
      "27 / 28\n",
      "40 / 65\n",
      "40 / 40\n",
      "40 / 40\n",
      "65 / 105\n",
      "40 / 105\n",
      "65 / 65\n",
      "65 / 65\n",
      "27 / 27\n",
      "27 / 27\n",
      "0.0022288755804031734\n",
      "1 / 1\n",
      "1 / 1\n",
      "1 / 28\n",
      "1 / 1\n",
      "1 / 1\n",
      "1 / 1\n",
      "0.03571428571428572\n",
      "27 / 27\n",
      "65 / 65\n",
      "27 / 65\n",
      "18 / 18\n",
      "65 / 65\n",
      "40 / 40\n",
      "27 / 27\n",
      "6 / 65\n",
      "40 / 40\n",
      "27 / 27\n",
      "27 / 65\n",
      "65 / 65\n",
      "27 / 28\n",
      "40 / 65\n",
      "40 / 40\n",
      "40 / 40\n",
      "65 / 105\n",
      "40 / 105\n",
      "65 / 65\n",
      "65 / 65\n",
      "27 / 27\n",
      "27 / 27\n",
      "0.0022288755804031734\n",
      "27 / 27\n",
      "65 / 65\n",
      "27 / 65\n",
      "18 / 18\n",
      "65 / 65\n",
      "40 / 40\n",
      "27 / 27\n",
      "6 / 65\n",
      "40 / 40\n",
      "27 / 27\n",
      "27 / 65\n",
      "65 / 65\n",
      "27 / 28\n",
      "40 / 65\n",
      "40 / 40\n",
      "40 / 40\n",
      "65 / 105\n",
      "40 / 105\n",
      "65 / 65\n",
      "65 / 65\n",
      "27 / 27\n",
      "27 / 27\n",
      "0.0022288755804031734\n"
     ]
    }
   ],
   "source": [
    "counter = CountVectorizer(ngram_range=(1,2))\n",
    "langMod = counter.fit_transform(corpus)\n",
    "langModTrans = langMod.toarray().transpose()\n",
    "\n",
    "def condProb(bigram, langModTrans):\n",
    "    cond = bigram.split(' ')[0]\n",
    "    loc0 = counter.vocabulary_.get(cond)\n",
    "    loc1 = counter.vocabulary_.get(bigram)\n",
    "    print('{} / {}'.format(sum(langModTrans[loc1]), sum(langModTrans[loc0])))\n",
    "    prob = sum(langModTrans[loc1]) / sum(langModTrans[loc0])\n",
    "    return prob\n",
    "# condProb('come again', langModTrans)\n",
    "\n",
    "def parseSeq(query):\n",
    "    counterTemp = CountVectorizer(ngram_range=(2,2))\n",
    "    langModTemp = counterTemp.fit_transform([query])\n",
    "    bigrams = counterTemp.get_feature_names()\n",
    "    return bigrams\n",
    "\n",
    "# text1 = \"It's good, Jinbao says I would like to come again.\"\n",
    "# parseSeq(text2)\n",
    "\n",
    "def sequenceProb(query):\n",
    "    bigrams = parseSeq(query)\n",
    "#     for bigram in bigrams:\n",
    "#         print( -math.log(condProb(bigram, langModTrans)))\n",
    "    logProb = sum(map(lambda x: math.log(condProb(x, langModTrans)), bigrams))\n",
    "    print(math.exp(logProb))\n",
    "    #     print( sum([math.log(condProb(x, langModTrans)) for x in bigrams]) )\n",
    "\n",
    "sequenceProb(corpus[0])\n",
    "sequenceProb(corpus[1])\n",
    "sequenceProb(corpus[2])\n",
    "sequenceProb(corpus[3])\n",
    "sequenceProb(corpus[4])"
   ]
  },
  {
   "cell_type": "code",
   "execution_count": 78,
   "metadata": {},
   "outputs": [
    {
     "name": "stdout",
     "output_type": "stream",
     "text": [
      "19 / 19\n",
      "1 / 28\n"
     ]
    },
    {
     "data": {
      "text/plain": [
       "0.035714285714285712"
      ]
     },
     "execution_count": 78,
     "metadata": {},
     "output_type": "execute_result"
    }
   ],
   "source": [
    "# condProb('前來 本處', langModTrans)\n",
    "condProb('巴西 日本', langModTrans)\n",
    "condProb('海外 機率', langModTrans)\n"
   ]
  },
  {
   "cell_type": "code",
   "execution_count": 23,
   "metadata": {},
   "outputs": [
    {
     "name": "stdout",
     "output_type": "stream",
     "text": [
      "\n",
      " 1  2  3  4  5  6  7  8  9 \n",
      " 2  4  6  8 10 12 14 16 18 \n",
      " 3  6  9 12 15 18 21 24 27 \n",
      " 4  8 12 16 20 24 28 32 36 \n",
      " 5 10 15 20 25 30 35 40 45 \n",
      " 6 12 18 24 30 36 42 48 54 \n",
      " 7 14 21 28 35 42 49 56 63 \n",
      " 8 16 24 32 40 48 56 64 72 \n",
      " 9 18 27 36 45 54 63 72 81 "
     ]
    }
   ],
   "source": [
    "for i in range(1,10):\n",
    "    print('')\n",
    "    for j in range(1,10):\n",
    "        print('%2d' % (i * j), end=' ')"
   ]
  },
  {
   "cell_type": "code",
   "execution_count": null,
   "metadata": {
    "collapsed": true
   },
   "outputs": [],
   "source": []
  }
 ],
 "metadata": {
  "kernelspec": {
   "display_name": "Python 3",
   "language": "python",
   "name": "python3"
  },
  "language_info": {
   "codemirror_mode": {
    "name": "ipython",
    "version": 3
   },
   "file_extension": ".py",
   "mimetype": "text/x-python",
   "name": "python",
   "nbconvert_exporter": "python",
   "pygments_lexer": "ipython3",
   "version": "3.5.2"
  }
 },
 "nbformat": 4,
 "nbformat_minor": 2
}
