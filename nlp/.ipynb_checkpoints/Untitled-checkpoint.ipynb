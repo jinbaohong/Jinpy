{
 "cells": [
  {
   "cell_type": "code",
   "execution_count": 1,
   "metadata": {
    "collapsed": true
   },
   "outputs": [],
   "source": [
    "import os\n",
    "import re\n",
    "from sklearn.feature_extraction.text import TfidfVectorizer\n",
    "import numpy as np"
   ]
  },
  {
   "cell_type": "code",
   "execution_count": 6,
   "metadata": {
    "scrolled": false
   },
   "outputs": [
    {
     "name": "stdout",
     "output_type": "stream",
     "text": [
      "0.539895712985\n",
      "National Safety Council Congress & Expo Anaheim 2016(NSC Congress & Expo)\n",
      "0.0\n",
      "Exception: No matching\n",
      "2.0\n",
      "International Consumer Electronics Show(2013 International CES)\n",
      "0.476020182972\n",
      "National Safety Council Congress & Expo Anaheim 2016(NSC Congress & Expo)\n"
     ]
    }
   ],
   "source": [
    "def getMatchByTfidf(corpus, query):\n",
    "    tfidf = TfidfVectorizer()\n",
    "    tfs = tfidf.fit_transform(corpus)\n",
    "\n",
    "    response = tfidf.transform([query])\n",
    "    feature_names = tfidf.get_feature_names()\n",
    "#     for col in response.nonzero()[1]:\n",
    "#         print( feature_names[col], ' - ', response[0, col])\n",
    "#     print(np.amax(np.sum(tfs.toarray()[:,response.nonzero()[1]], axis=1)))\n",
    "#     print(tfs.toarray()[:,response.nonzero()[1]])\n",
    "    \n",
    "    # Print the highest tfidf score\n",
    "    print(np.amax(np.sum(tfs.toarray()[:,response.nonzero()[1]], axis=1)))\n",
    "    # best : the location in corpus of the best score\n",
    "    best = np.argmax(np.sum(tfs.toarray()[:,response.nonzero()[1]], axis=1))\n",
    "    if best:\n",
    "        # if best score is not zero, then return the corpus\n",
    "        return corpus[best]\n",
    "    return 'Exception: No matching'\n",
    "\n",
    "if __name__ == '__main__':\n",
    "    text1 = 'Cosmoprof North America Las Vegas(Cosmoprof)'\n",
    "    text2 = 'National Safety Council Congress & Expo Anaheim 2016(NSC Congress & Expo)'\n",
    "    text3 = 'NSC - National Safety Council Congress & Exposition'\n",
    "    text5 = 'International Consumer Electronics Show(2013 International CES)'\n",
    "\n",
    "    query = 'congress International CES - Consumer Electronics Show - the Source for Consumer Technologies'\n",
    "    query2 = 'safety    2016'\n",
    "    query3 = ''\n",
    "    query4 = 'you are a ass hole congress'\n",
    "\n",
    "    corpus = (text1, text2, text3, text5)\n",
    "\n",
    "    print(getMatchByTfidf(corpus, query2))\n",
    "    print(getMatchByTfidf(corpus, query3))\n",
    "    print(getMatchByTfidf(corpus, query))\n",
    "    print(getMatchByTfidf(corpus, query4))\n"
   ]
  },
  {
   "cell_type": "code",
   "execution_count": null,
   "metadata": {
    "collapsed": true
   },
   "outputs": [],
   "source": []
  }
 ],
 "metadata": {
  "kernelspec": {
   "display_name": "Python 3",
   "language": "python",
   "name": "python3"
  },
  "language_info": {
   "codemirror_mode": {
    "name": "ipython",
    "version": 3
   },
   "file_extension": ".py",
   "mimetype": "text/x-python",
   "name": "python",
   "nbconvert_exporter": "python",
   "pygments_lexer": "ipython3",
   "version": "3.5.2"
  }
 },
 "nbformat": 4,
 "nbformat_minor": 2
}
