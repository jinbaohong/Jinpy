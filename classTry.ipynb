{
 "cells": [
  {
   "cell_type": "code",
   "execution_count": 1,
   "metadata": {},
   "outputs": [
    {
     "name": "stdout",
     "output_type": "stream",
     "text": [
      "Husky\n",
      "Husky\n",
      "Animal object (name: Jinbao)\n",
      "Jinbao says 'rwwwww'..\n",
      "삵 \n",
      " ᴒ\n"
     ]
    }
   ],
   "source": [
    "class Animal(object):\n",
    "#     __slots__ = ('name', 'age')\n",
    "    def __init__(self, name, age):\n",
    "        self.__name = name\n",
    "        self.__age = age\n",
    "    def __str__(self):\n",
    "        return \"Animal object (name: %s)\" % self.__name\n",
    "    __repr__ = __str__\n",
    "    def getAge(self):\n",
    "        return self.__age\n",
    "    def getName(self):\n",
    "        return self.__name\n",
    "    def makeSound(self):\n",
    "        print (\"%s says 'rwwwww'..\" %self.__name)\n",
    "\n",
    "class Cat(Animal):\n",
    "    pass\n",
    "\n",
    "class Tree(object):\n",
    "    def __init__(self, name, age):\n",
    "        self.__name = name\n",
    "        self.__age = age\n",
    "    def getAge(self):\n",
    "        return self.__age\n",
    "\n",
    "def age_twice(Animal):\n",
    "    print(Animal.getAge())\n",
    "    print(Animal.getAge())\n",
    "if __name__ == '__main__':\n",
    "    ginny = Cat('Ginny', '23')\n",
    "    jinbao = Animal('Jinbao', '24')\n",
    "    meer = Tree('Meer', '85')\n",
    "    Animal.uni = 'Husky'\n",
    "    print(jinbao.uni)\n",
    "    print(Cat.uni)\n",
    "    print(jinbao)\n",
    "    callable('Ka')\n",
    "    jinbao.makeSound()\n",
    "    print('\\uC0B5','\\012','\\u1D12')"
   ]
  },
  {
   "cell_type": "code",
   "execution_count": null,
   "metadata": {
    "collapsed": true
   },
   "outputs": [],
   "source": []
  }
 ],
 "metadata": {
  "kernelspec": {
   "display_name": "Python 3",
   "language": "python",
   "name": "python3"
  },
  "language_info": {
   "codemirror_mode": {
    "name": "ipython",
    "version": 3
   },
   "file_extension": ".py",
   "mimetype": "text/x-python",
   "name": "python",
   "nbconvert_exporter": "python",
   "pygments_lexer": "ipython3",
   "version": "3.5.2"
  }
 },
 "nbformat": 4,
 "nbformat_minor": 2
}
