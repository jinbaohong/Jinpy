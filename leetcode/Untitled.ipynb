{
 "cells": [
  {
   "cell_type": "code",
   "execution_count": 40,
   "metadata": {},
   "outputs": [
    {
     "data": {
      "text/plain": [
       "'\\nExample:\\nInput: [[1,2], [3], [3], []] \\nOutput: [[0,1,3],[0,2,3]] \\nExplanation: The graph looks like this:\\n0--->1\\n|    |\\nv    v\\n2--->3\\nThere are two paths: 0 -> 1 -> 3 and 0 -> 2 -> 3.\\n'"
      ]
     },
     "execution_count": 40,
     "metadata": {},
     "output_type": "execute_result"
    }
   ],
   "source": [
    "'''\n",
    "Example:\n",
    "Input: [[1,2], [3], [3], []] \n",
    "Output: [[0,1,3],[0,2,3]] \n",
    "Explanation: The graph looks like this:\n",
    "0--->1\n",
    "|    |\n",
    "v    v\n",
    "2--->3\n",
    "There are two paths: 0 -> 1 -> 3 and 0 -> 2 -> 3.\n",
    "'''\n",
    "\n",
    "a = [[1,2], [3], [3,1], []]\n",
    "def main(graph):\n",
    "    path = []\n",
    "    result = []\n",
    "    def visit(node):\n",
    "        path.append(node)\n",
    "        if node == len(graph)-1:\n",
    "            result.append(list(path))\n",
    "            path.pop()\n",
    "            return\n",
    "        for next in graph[node]:\n",
    "            visit(next)\n",
    "        path.pop()\n",
    "    visit(0)\n",
    "    return result\n",
    "\n",
    "main(a)"
   ]
  },
  {
   "cell_type": "code",
   "execution_count": 38,
   "metadata": {},
   "outputs": [
    {
     "data": {
      "text/plain": [
       "True"
      ]
     },
     "execution_count": 38,
     "metadata": {},
     "output_type": "execute_result"
    }
   ],
   "source": [
    "a = 'DDUDDUUU'\n",
    "def judgeCircle(moves):\n",
    "    return (moves.count('R') == moves.count('L')) & (moves.count('U') == moves.count('D'))\n",
    "judgeCircle(a)"
   ]
  },
  {
   "cell_type": "code",
   "execution_count": 39,
   "metadata": {},
   "outputs": [
    {
     "data": {
      "text/plain": [
       "\"\\nExample 1:\\nInput: A = 'abcde', B = 'cdeab'\\nOutput: true\\n\\nExample 2:\\nInput: A = 'abcde', B = 'abced'\\nOutput: false\\n\""
      ]
     },
     "execution_count": 39,
     "metadata": {},
     "output_type": "execute_result"
    }
   ],
   "source": [
    "'''\n",
    "Example 1:\n",
    "Input: A = 'abcde', B = 'cdeab'\n",
    "Output: true\n",
    "\n",
    "Example 2:\n",
    "Input: A = 'abcde', B = 'abced'\n",
    "Output: false\n",
    "'''\n",
    "\n",
    "a = 'abcde'\n",
    "b = 'cdeab'\n",
    "def rotateString(a, b):\n",
    "    for i in range(len(a)):\n",
    "        if a == b: return True\n",
    "        a = a[1:] + a[0]\n",
    "    return False\n",
    "\n",
    "def rotateString(A, B):\n",
    "    return B in A + A\n",
    "rotateString('abcde', 'abced')"
   ]
  },
  {
   "cell_type": "code",
   "execution_count": 83,
   "metadata": {},
   "outputs": [
    {
     "data": {
      "text/plain": [
       "7"
      ]
     },
     "execution_count": 83,
     "metadata": {},
     "output_type": "execute_result"
    }
   ],
   "source": [
    "'''\n",
    "Input: \n",
    "\tTree 1                     Tree 2                  \n",
    "          1                         2                             \n",
    "         / \\                       / \\                            \n",
    "        3   2                     1   3                        \n",
    "       /                           \\   \\                      \n",
    "      5                             4   7                  \n",
    "Output: \n",
    "Merged tree:\n",
    "\t     3\n",
    "\t    / \\\n",
    "\t   4   5\n",
    "\t  / \\   \\ \n",
    "\t 5   4   7\n",
    "'''\n",
    "\n",
    "class TreeNode(object):\n",
    "    def __init__(self, x):\n",
    "        self.val = x\n",
    "        self.left = None\n",
    "        self.right = None\n",
    "\n",
    "t1 = TreeNode(1)\n",
    "t1.left = TreeNode(3)\n",
    "t1.right = TreeNode(2)\n",
    "t1.left.left = TreeNode(5)\n",
    "\n",
    "t2 = TreeNode(2)\n",
    "t2.left = TreeNode(1)\n",
    "t2.right = TreeNode(3)\n",
    "t2.left.right = TreeNode(4)\n",
    "t2.right.right = TreeNode(7)\n",
    "\n",
    "def mergeTrees(t1,t2):\n",
    "    if (t1 == None) & (t2 == None): return None\n",
    "    if (t1 == None) & (t2 != None): return t2\n",
    "    if (t1 != None) & (t2 == None): return t1\n",
    "    t3 = TreeNode(t1.val + t2.val)\n",
    "    t3.left = mergeTrees(t1.left, t2.left)\n",
    "    t3.right = mergeTrees(t1.right, t2.right)\n",
    "    return t3\n",
    "\n",
    "root = mergeTrees(t1, t2)\n",
    "root.right.right.val\n"
   ]
  },
  {
   "cell_type": "code",
   "execution_count": 109,
   "metadata": {},
   "outputs": [
    {
     "data": {
      "text/plain": [
       "[48, 55, 66, 77]"
      ]
     },
     "execution_count": 109,
     "metadata": {},
     "output_type": "execute_result"
    }
   ],
   "source": [
    "'''\n",
    "Input: \n",
    "left = 1, right = 22\n",
    "Output: [1, 2, 3, 4, 5, 6, 7, 8, 9, 11, 12, 15, 22]\n",
    "'''\n",
    "\n",
    "def selfDividingNumbers(left, right):\n",
    "    \"\"\"\n",
    "    :type left: int\n",
    "    :type right: int\n",
    "    :rtype: List[int]\n",
    "    \"\"\"\n",
    "    def isSelfDivided(num):\n",
    "        if '0' in str(num): return False\n",
    "        if False in [num % int(i) == 0 for i in str(num)]: return False\n",
    "        return True\n",
    "    return [x for x in range(left, right+1) if isSelfDivided(x)]\n",
    "selfDividingNumbers(47, 85)"
   ]
  },
  {
   "cell_type": "code",
   "execution_count": null,
   "metadata": {
    "collapsed": true
   },
   "outputs": [],
   "source": []
  }
 ],
 "metadata": {
  "kernelspec": {
   "display_name": "Python 3",
   "language": "python",
   "name": "python3"
  },
  "language_info": {
   "codemirror_mode": {
    "name": "ipython",
    "version": 3
   },
   "file_extension": ".py",
   "mimetype": "text/x-python",
   "name": "python",
   "nbconvert_exporter": "python",
   "pygments_lexer": "ipython3",
   "version": "3.5.2"
  }
 },
 "nbformat": 4,
 "nbformat_minor": 2
}
