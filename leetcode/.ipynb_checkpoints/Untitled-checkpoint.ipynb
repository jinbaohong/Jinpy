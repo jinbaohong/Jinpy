{
 "cells": [
  {
   "cell_type": "code",
   "execution_count": 40,
   "metadata": {},
   "outputs": [
    {
     "data": {
      "text/plain": [
       "'\\nExample:\\nInput: [[1,2], [3], [3], []] \\nOutput: [[0,1,3],[0,2,3]] \\nExplanation: The graph looks like this:\\n0--->1\\n|    |\\nv    v\\n2--->3\\nThere are two paths: 0 -> 1 -> 3 and 0 -> 2 -> 3.\\n'"
      ]
     },
     "execution_count": 40,
     "metadata": {},
     "output_type": "execute_result"
    }
   ],
   "source": [
    "'''\n",
    "Example:\n",
    "Input: [[1,2], [3], [3], []] \n",
    "Output: [[0,1,3],[0,2,3]] \n",
    "Explanation: The graph looks like this:\n",
    "0--->1\n",
    "|    |\n",
    "v    v\n",
    "2--->3\n",
    "There are two paths: 0 -> 1 -> 3 and 0 -> 2 -> 3.\n",
    "'''\n",
    "\n",
    "a = [[1,2], [3], [3,1], []]\n",
    "def main(graph):\n",
    "    path = []\n",
    "    result = []\n",
    "    def visit(node):\n",
    "        path.append(node)\n",
    "        if node == len(graph)-1:\n",
    "            result.append(list(path))\n",
    "            path.pop()\n",
    "            return\n",
    "        for next in graph[node]:\n",
    "            visit(next)\n",
    "        path.pop()\n",
    "    visit(0)\n",
    "    return result\n",
    "\n",
    "main(a)"
   ]
  },
  {
   "cell_type": "code",
   "execution_count": 38,
   "metadata": {},
   "outputs": [
    {
     "data": {
      "text/plain": [
       "True"
      ]
     },
     "execution_count": 38,
     "metadata": {},
     "output_type": "execute_result"
    }
   ],
   "source": [
    "a = 'DDUDDUUU'\n",
    "def judgeCircle(moves):\n",
    "    return (moves.count('R') == moves.count('L')) & (moves.count('U') == moves.count('D'))\n",
    "judgeCircle(a)"
   ]
  },
  {
   "cell_type": "code",
   "execution_count": 39,
   "metadata": {},
   "outputs": [
    {
     "data": {
      "text/plain": [
       "\"\\nExample 1:\\nInput: A = 'abcde', B = 'cdeab'\\nOutput: true\\n\\nExample 2:\\nInput: A = 'abcde', B = 'abced'\\nOutput: false\\n\""
      ]
     },
     "execution_count": 39,
     "metadata": {},
     "output_type": "execute_result"
    }
   ],
   "source": [
    "'''\n",
    "Example 1:\n",
    "Input: A = 'abcde', B = 'cdeab'\n",
    "Output: true\n",
    "\n",
    "Example 2:\n",
    "Input: A = 'abcde', B = 'abced'\n",
    "Output: false\n",
    "'''\n",
    "\n",
    "a = 'abcde'\n",
    "b = 'cdeab'\n",
    "def rotateString(a, b):\n",
    "    for i in range(len(a)):\n",
    "        if a == b: return True\n",
    "        a = a[1:] + a[0]\n",
    "    return False\n",
    "\n",
    "def rotateString(A, B):\n",
    "    return B in A + A\n",
    "rotateString('abcde', 'abced')"
   ]
  },
  {
   "cell_type": "code",
   "execution_count": 83,
   "metadata": {},
   "outputs": [
    {
     "data": {
      "text/plain": [
       "7"
      ]
     },
     "execution_count": 83,
     "metadata": {},
     "output_type": "execute_result"
    }
   ],
   "source": [
    "'''\n",
    "Input: \n",
    "\tTree 1                     Tree 2                  \n",
    "          1                         2                             \n",
    "         / \\                       / \\                            \n",
    "        3   2                     1   3                        \n",
    "       /                           \\   \\                      \n",
    "      5                             4   7                  \n",
    "Output: \n",
    "Merged tree:\n",
    "\t     3\n",
    "\t    / \\\n",
    "\t   4   5\n",
    "\t  / \\   \\ \n",
    "\t 5   4   7\n",
    "'''\n",
    "\n",
    "class TreeNode(object):\n",
    "    def __init__(self, x):\n",
    "        self.val = x\n",
    "        self.left = None\n",
    "        self.right = None\n",
    "\n",
    "t1 = TreeNode(1)\n",
    "t1.left = TreeNode(3)\n",
    "t1.right = TreeNode(2)\n",
    "t1.left.left = TreeNode(5)\n",
    "\n",
    "t2 = TreeNode(2)\n",
    "t2.left = TreeNode(1)\n",
    "t2.right = TreeNode(3)\n",
    "t2.left.right = TreeNode(4)\n",
    "t2.right.right = TreeNode(7)\n",
    "\n",
    "def mergeTrees(t1,t2):\n",
    "    if (t1 == None) & (t2 == None): return None\n",
    "    if (t1 == None) & (t2 != None): return t2\n",
    "    if (t1 != None) & (t2 == None): return t1\n",
    "    t3 = TreeNode(t1.val + t2.val)\n",
    "    t3.left = mergeTrees(t1.left, t2.left)\n",
    "    t3.right = mergeTrees(t1.right, t2.right)\n",
    "    return t3\n",
    "\n",
    "root = mergeTrees(t1, t2)\n",
    "root.right.right.val\n"
   ]
  },
  {
   "cell_type": "code",
   "execution_count": 109,
   "metadata": {},
   "outputs": [
    {
     "data": {
      "text/plain": [
       "[48, 55, 66, 77]"
      ]
     },
     "execution_count": 109,
     "metadata": {},
     "output_type": "execute_result"
    }
   ],
   "source": [
    "'''\n",
    "Input: \n",
    "left = 1, right = 22\n",
    "Output: [1, 2, 3, 4, 5, 6, 7, 8, 9, 11, 12, 15, 22]\n",
    "'''\n",
    "\n",
    "def selfDividingNumbers(left, right):\n",
    "    \"\"\"\n",
    "    :type left: int\n",
    "    :type right: int\n",
    "    :rtype: List[int]\n",
    "    \"\"\"\n",
    "    def isSelfDivided(num):\n",
    "        if '0' in str(num): return False\n",
    "        if False in [num % int(i) == 0 for i in str(num)]: return False\n",
    "        return True\n",
    "    return [x for x in range(left, right+1) if isSelfDivided(x)]\n",
    "selfDividingNumbers(47, 85)"
   ]
  },
  {
   "cell_type": "code",
   "execution_count": 1,
   "metadata": {},
   "outputs": [
    {
     "data": {
      "text/plain": [
       "'\\nInput: [1,4,3,2]\\n\\nOutput: 4\\nExplanation: n is 2, and the maximum sum of pairs is 4 = min(1, 2) + min(3, 4).\\n'"
      ]
     },
     "execution_count": 1,
     "metadata": {},
     "output_type": "execute_result"
    }
   ],
   "source": [
    "'''\n",
    "Input: [1,4,3,2]\n",
    "\n",
    "Output: 4\n",
    "Explanation: n is 2, and the maximum sum of pairs is 4 = min(1, 2) + min(3, 4).\n",
    "'''\n",
    "\n",
    "a = [1,4,3,2]\n",
    "def arrayPairSum(nums):\n",
    "    nums.sort(reverse=True)\n",
    "    return sum([x for index, x in enumerate(nums) if index % 2 != 0])\n",
    "arrayPairSum(a)"
   ]
  },
  {
   "cell_type": "code",
   "execution_count": 9,
   "metadata": {},
   "outputs": [
    {
     "data": {
      "text/plain": [
       "'\\nInput: S = \"ababcbacadefegdehijhklij\"\\nOutput: [9,7,8]\\nExplanation:\\nThe partition is \"ababcbaca\", \"defegde\", \"hijhklij\".\\nThis is a partition so that each letter appears in at most one part.\\nA partition like \"ababcbacadefegde\", \"hijhklij\" is incorrect, because it splits S into less parts.\\n'"
      ]
     },
     "execution_count": 9,
     "metadata": {},
     "output_type": "execute_result"
    }
   ],
   "source": [
    "'''\n",
    "Input: S = \"ababcbacadefegdehijhklij\"\n",
    "Output: [9,7,8]\n",
    "Explanation:\n",
    "The partition is \"ababcbaca\", \"defegde\", \"hijhklij\".\n",
    "This is a partition so that each letter appears in at most one part.\n",
    "A partition like \"ababcbacadefegde\", \"hijhklij\" is incorrect, because it splits S into less parts.\n",
    "'''\n",
    "class Solution:\n",
    "    def partitionLabels(self, S):\n",
    "        \"\"\"\n",
    "        :type S: str\n",
    "        :rtype: List[int]\n",
    "        \"\"\"\n",
    "        last = {c: i for i, c in enumerate(S)}\n",
    "        j = anchor = 0\n",
    "        ans = []\n",
    "        for i, c in enumerate(S):\n",
    "            j = max(j, last[c])\n",
    "            if i == j:\n",
    "                ans.append(i - anchor + 1)\n",
    "                anchor = i + 1\n",
    "            \n",
    "        return ans\n",
    "\n",
    "s = \"ababcbacadefegdehijhklij\"\n",
    "def partitionLabels(s):\n",
    "    result = []\n",
    "    intervalDict = {}\n",
    "    for letter in list(set(s)):\n",
    "        intervalDict[letter] = [index for index, x in enumerate(s) if x == letter]\n",
    "    low = intervalDict[s[0]][0]\n",
    "    top = intervalDict[s[0]][-1]\n",
    "    topNew = top\n",
    "    while True:\n",
    "        while True:\n",
    "            top = topNew\n",
    "            segment = s[low:top+1]\n",
    "            letterInSegment = list(set(segment))\n",
    "            for letter in letterInSegment:\n",
    "                if intervalDict[letter][-1] > top:\n",
    "                    topNew = intervalDict[letter][-1]\n",
    "            if topNew == top:\n",
    "                top = topNew\n",
    "                break\n",
    "        result.append(segment)\n",
    "        if top+1 == len(s):\n",
    "            break\n",
    "        low = top+1\n",
    "        top = intervalDict[s[low]][-1]\n",
    "        topNew = top\n",
    "    return [len(x) for x in result]\n",
    "partitionLabels(s)"
   ]
  },
  {
   "cell_type": "code",
   "execution_count": 15,
   "metadata": {},
   "outputs": [
    {
     "data": {
      "text/plain": [
       "'0+-2i'"
      ]
     },
     "execution_count": 15,
     "metadata": {},
     "output_type": "execute_result"
    }
   ],
   "source": [
    "'''\n",
    "Input: \"1+-1i\", \"1+-1i\"\n",
    "Output: \"0+-2i\"\n",
    "Explanation: (1 - i) * (1 - i) = 1 + i2 - 2 * i = -2i, and you need convert it to the form of 0+-2i.\n",
    "'''\n",
    "\n",
    "a, b = \"1+-1i\", \"1+-1i\"\n",
    "def complexNumberMultiply(a,b):\n",
    "    imag_a = int(a[a.index('+')+1:-1])\n",
    "    real_a = int(a[:a.index('+')])\n",
    "    imag_b = int(b[b.index('+')+1:-1])\n",
    "    real_b = int(b[:b.index('+')])\n",
    "    real_result = real_a * real_b - imag_a * imag_b\n",
    "    imag_result = real_a * imag_b + real_b * imag_a\n",
    "    return str(real_result) + '+' + str(imag_result) + 'i'\n",
    "complexNumberMultiply(a,b)"
   ]
  },
  {
   "cell_type": "code",
   "execution_count": 1,
   "metadata": {},
   "outputs": [
    {
     "data": {
      "text/plain": [
       "'\\nFor num = 5 you should return [0,1,1,2,1,2].\\n'"
      ]
     },
     "execution_count": 1,
     "metadata": {},
     "output_type": "execute_result"
    }
   ],
   "source": [
    "'''\n",
    "For num = 5 you should return [0,1,1,2,1,2].\n",
    "'''\n",
    "num = 5\n",
    "def countBits(num):\n",
    "    return [bin(x).count('1') for x in range(num+1)]\n",
    "countBits(num)"
   ]
  },
  {
   "cell_type": "code",
   "execution_count": 1,
   "metadata": {},
   "outputs": [
    {
     "data": {
      "text/plain": [
       "'ccbaddg'"
      ]
     },
     "execution_count": 1,
     "metadata": {},
     "output_type": "execute_result"
    }
   ],
   "source": [
    "'''\n",
    "Example :\n",
    "Input: \n",
    "S = \"cba\"\n",
    "T = \"abcd\"\n",
    "Output: \"cbad\"\n",
    "Explanation: \n",
    "\"a\", \"b\", \"c\" appear in S, so the order of \"a\", \"b\", \"c\" should be \"c\", \"b\", and \"a\". \n",
    "Since \"d\" does not appear in S, it can be at any position in T. \"dcba\", \"cdba\", \"cbda\" are also valid outputs.\n",
    "'''\n",
    "\n",
    "S = \"cba\"\n",
    "T = \"abcdcdg\"\n",
    "\n",
    "def customSortString(S, T):\n",
    "    result = ''\n",
    "    for s in S: result += s * T.count(s)\n",
    "    result += ''.join([t for t in T if t not in S])\n",
    "    return result\n",
    "customSortString(S, T)"
   ]
  },
  {
   "cell_type": "code",
   "execution_count": 11,
   "metadata": {},
   "outputs": [
    {
     "data": {
      "text/plain": [
       "<__main__.TreeNode at 0x7f40c3721128>"
      ]
     },
     "execution_count": 11,
     "metadata": {},
     "output_type": "execute_result"
    }
   ],
   "source": [
    "'''\n",
    "Input: \n",
    "    3\n",
    "   / \\\n",
    "  0   4\n",
    "   \\\n",
    "    2\n",
    "   /\n",
    "  1\n",
    "\n",
    "  L = 1\n",
    "  R = 3\n",
    "\n",
    "Output: \n",
    "      3\n",
    "     / \n",
    "   2   \n",
    "  /\n",
    " 1\n",
    "'''\n",
    "\n",
    "class TreeNode:\n",
    "    def __init__(self, x):\n",
    "        self.val = x\n",
    "        self.left = None\n",
    "        self.right = None\n",
    "root = TreeNode(3)\n",
    "root.left = TreeNode(0)\n",
    "root.left.right = TreeNode(2)\n",
    "root.left.right.left = TreeNode(1)\n",
    "root.right = TreeNode(4)\n",
    "\n",
    "def trimBST(root, L, R):\n",
    "    def trimLow(x):\n",
    "        if x == None: return\n",
    "        if x.val < L:\n",
    "            x = x.right\n",
    "            trimLow(x)\n",
    "        else:\n",
    "            trimLow(x.left)\n",
    "\n",
    "    def trimUp(x):\n",
    "        if x == None: return\n",
    "        if x.val > R:\n",
    "            x = x.right\n",
    "            trimUp(x)\n",
    "        else:\n",
    "            trimUp(x.right)\n",
    "    trimLow(root)\n",
    "    trimLow(root)\n",
    "    return root\n",
    "\n",
    "def trimBST(root, L, R):\n",
    "    if not root: return None\n",
    "    if root.val < L: return trimBST(root.right, L, R)\n",
    "    if root.val > R: return trimBST(root.left, L, R)\n",
    "    root.left = trimBST(root.left, L, R)\n",
    "    root.right = trimBST(root.right, L, R)\n",
    "    return root\n",
    "trimBST(root, 1, 3)"
   ]
  },
  {
   "cell_type": "code",
   "execution_count": 9,
   "metadata": {},
   "outputs": [
    {
     "data": {
      "text/plain": [
       "2"
      ]
     },
     "execution_count": 9,
     "metadata": {},
     "output_type": "execute_result"
    }
   ],
   "source": [
    "'''\n",
    "Input: candies = [1,1,2,3]\n",
    "Output: 2\n",
    "Explanation: For example, the sister has candies [2,3] and the brother has candies [1,1]. \n",
    "The sister has two different kinds of candies, the brother has only one kind of candies. \n",
    "'''\n",
    "\n",
    "candies = [1,1,2,3]\n",
    "def  distributeCandies(candies):\n",
    "    if len(set(candies)) > len(candies) / 2:\n",
    "        return int(len(candies) / 2)\n",
    "    else:\n",
    "        return len(set(candies))\n",
    "distributeCandies(candies)"
   ]
  },
  {
   "cell_type": "code",
   "execution_count": 12,
   "metadata": {},
   "outputs": [
    {
     "data": {
      "text/plain": [
       "'\\nInput: [\"5\",\"-2\",\"4\",\"C\",\"D\",\"9\",\"+\",\"+\"]\\nOutput: 27\\nExplanation: \\nRound 1: You could get 5 points. The sum is: 5.\\nRound 2: You could get -2 points. The sum is: 3.\\nRound 3: You could get 4 points. The sum is: 7.\\nOperation 1: The round 3\\'s data is invalid. The sum is: 3.  \\nRound 4: You could get -4 points (the round 3\\'s data has been removed). The sum is: -1.\\nRound 5: You could get 9 points. The sum is: 8.\\nRound 6: You could get -4 + 9 = 5 points. The sum is 13.\\nRound 7: You could get 9 + 5 = 14 points. The sum is 27.\\n'"
      ]
     },
     "execution_count": 12,
     "metadata": {},
     "output_type": "execute_result"
    }
   ],
   "source": [
    "'''\n",
    "Input: [\"5\",\"-2\",\"4\",\"C\",\"D\",\"9\",\"+\",\"+\"]\n",
    "Output: 27\n",
    "Explanation: \n",
    "Round 1: You could get 5 points. The sum is: 5.\n",
    "Round 2: You could get -2 points. The sum is: 3.\n",
    "Round 3: You could get 4 points. The sum is: 7.\n",
    "Operation 1: The round 3's data is invalid. The sum is: 3.  \n",
    "Round 4: You could get -4 points (the round 3's data has been removed). The sum is: -1.\n",
    "Round 5: You could get 9 points. The sum is: 8.\n",
    "Round 6: You could get -4 + 9 = 5 points. The sum is 13.\n",
    "Round 7: You could get 9 + 5 = 14 points. The sum is 27.\n",
    "'''\n",
    "\n",
    "ops = [\"5\",\"-2\",\"4\",\"C\",\"D\",\"9\",\"+\",\"+\"]\n",
    "\n",
    "def calPoints(ops):\n",
    "    for k in [i for i,x in enumerate(ops) if x=='C']:\n",
    "        del ops[k]\n",
    "        del ops[k-1]\n",
    "    for x in range(len(ops)):\n",
    "        if ops[x] == '+': ops[x] = ops[x-1] + ops[x-2]\n",
    "        elif ops[x] == 'D': ops[x] = 2 * ops[x-1]\n",
    "        else: ops[x] = int(ops[x])\n",
    "    return sum(ops)\n",
    "\n",
    "# calPoints([\"61\",\"-50\",\"65\",\"+\",\"D\",\"-99\",\"-58\",\"88\",\"19\",\"-11\"])"
   ]
  },
  {
   "cell_type": "code",
   "execution_count": 38,
   "metadata": {},
   "outputs": [
    {
     "data": {
      "text/plain": [
       "'\\nInput: matrix = [[1,2,3,4],[5,1,2,3],[9,5,1,2]]\\nOutput: True\\nExplanation:\\n1234\\n5123\\n9512\\n\\nIn the above grid, the diagonals are \"[9]\", \"[5, 5]\", \"[1, 1, 1]\", \"[2, 2, 2]\", \"[3, 3]\", \"[4]\", and in each diagonal all elements are the same, so the answer is True.\\n'"
      ]
     },
     "execution_count": 38,
     "metadata": {},
     "output_type": "execute_result"
    }
   ],
   "source": [
    "'''\n",
    "Input: matrix = [[1,2,3,4],[5,1,2,3],[9,5,1,2]]\n",
    "Output: True\n",
    "Explanation:\n",
    "1234\n",
    "5123\n",
    "9512\n",
    "\n",
    "In the above grid, the diagonals are \"[9]\", \"[5, 5]\", \"[1, 1, 1]\", \"[2, 2, 2]\", \"[3, 3]\", \"[4]\", and in each diagonal all elements are the same, so the answer is True.\n",
    "'''\n",
    "\n",
    "matrix = [[1,2,3,4],[5,1,2,3],[9,5,1,2]]\n",
    "def isToeplitzMatrix(matrix):\n",
    "    for i in range(len(matrix)-1):\n",
    "        if matrix[i][0:-1] != matrix[i+1][1:]: return False\n",
    "    return True\n",
    "isToeplitzMatrix([[1,2],[2,2]])\n",
    "isToeplitzMatrix(matrix)"
   ]
  },
  {
   "cell_type": "code",
   "execution_count": null,
   "metadata": {
    "collapsed": true
   },
   "outputs": [],
   "source": []
  }
 ],
 "metadata": {
  "kernelspec": {
   "display_name": "Python 3",
   "language": "python",
   "name": "python3"
  },
  "language_info": {
   "codemirror_mode": {
    "name": "ipython",
    "version": 3
   },
   "file_extension": ".py",
   "mimetype": "text/x-python",
   "name": "python",
   "nbconvert_exporter": "python",
   "pygments_lexer": "ipython3",
   "version": "3.5.2"
  }
 },
 "nbformat": 4,
 "nbformat_minor": 2
}
