{
 "cells": [
  {
   "cell_type": "code",
   "execution_count": null,
   "metadata": {
    "collapsed": true
   },
   "outputs": [],
   "source": [
    "import unittest\n",
    "\n",
    "class TestAnimal(unittest.TestCase):\n",
    "    def test_init(self):\n",
    "        Shian = Animal('ShianGan', '100')\n",
    "\n",
    "    def test_age(self):\n",
    "        Shian = Animal('ShianGan', '100')\n",
    "        self.assertEqual(Shian.getAge(), 100)\n",
    "\n",
    "    def test_name(self):\n",
    "        Shian = Animal('ShianGan', '100')\n",
    "        self.assertEqual(Shian.getName(), 'ShianGan')\n",
    "\n",
    "# if __name__ == '__main__':\n",
    "    unittest.main()"
   ]
  }
 ],
 "metadata": {
  "kernelspec": {
   "display_name": "Python 3",
   "language": "python",
   "name": "python3"
  },
  "language_info": {
   "codemirror_mode": {
    "name": "ipython",
    "version": 3
   },
   "file_extension": ".py",
   "mimetype": "text/x-python",
   "name": "python",
   "nbconvert_exporter": "python",
   "pygments_lexer": "ipython3",
   "version": "3.5.2"
  }
 },
 "nbformat": 4,
 "nbformat_minor": 2
}
